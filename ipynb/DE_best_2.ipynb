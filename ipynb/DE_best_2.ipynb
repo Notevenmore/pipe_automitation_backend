{
 "cells": [
  {
   "cell_type": "markdown",
   "metadata": {
    "id": "RxVk8mdmpeXC"
   },
   "source": [
    "### Differential Evolution on Gas Transmission Pipe"
   ]
  },
  {
   "cell_type": "markdown",
   "metadata": {
    "id": "-tjMmlcDpeXG"
   },
   "source": [
    "### DE/best/2"
   ]
  },
  {
   "cell_type": "code",
   "execution_count": 31,
   "metadata": {
    "id": "vgsaO9zMSmOH"
   },
   "outputs": [],
   "source": [
    "# Import library yang dibutuhkan\n",
    "import numpy as np"
   ]
  },
  {
   "cell_type": "markdown",
   "metadata": {
    "id": "Uw_ttmkNSmOa"
   },
   "source": [
    "### Differential evolution method"
   ]
  },
  {
   "cell_type": "code",
   "execution_count": 32,
   "metadata": {
    "id": "LiaYtVpqSmOc"
   },
   "outputs": [],
   "source": [
    "# Fungsi untuk Mutation\n",
    "# Input : target pipe dan F\n",
    "# Output : mutated vector\n",
    "def mutation(x, F):\n",
    "    return np.add(x[0], np.multiply(F, np.add(np.subtract(x[1], x[2]), np.subtract(x[3], x[4]))))"
   ]
  },
  {
   "cell_type": "code",
   "execution_count": 33,
   "metadata": {
    "id": "9zXIj53bSmOe"
   },
   "outputs": [],
   "source": [
    "# Fungsi untuk Crossover\n",
    "# Input : mutated vector, target pipe, dimensi dari pipe = 7, dan CR\n",
    "# Output : trial vector\n",
    "def crossover(mutated, target, dims, cr):\n",
    "    # Generate uniform random value untuk setiap dimension\n",
    "    p = np.random.rand(dims)\n",
    "    # Generate Trial Vector dari binomial crossover\n",
    "    trial = [mutated[i] if p[i] < cr else target[i] for i in range(dims)]\n",
    "    return trial"
   ]
  },
  {
   "cell_type": "markdown",
   "metadata": {
    "id": "VuRVPIwASmOg"
   },
   "source": [
    "### Methods"
   ]
  },
  {
   "cell_type": "code",
   "execution_count": 34,
   "metadata": {
    "id": "SV2VoFu_SmOd"
   },
   "outputs": [],
   "source": [
    "# Fungsi untuk mengecek batasan dari pd, ps, L, D pada tiap pipe dari 1 set pipe\n",
    "# Input : mutated pipe dan batasan\n",
    "# Output : mutated pipe yang memenuhi batasan\n",
    "def check_bounds(mutated, bounds):\n",
    "    mutated_bound = []\n",
    "    for i in range(len(mutated)):\n",
    "        temp = []\n",
    "        for j in range(len(bounds)):\n",
    "            temp.append(np.clip(mutated[i][j], bounds[j, 0], bounds[j, -1]))\n",
    "        mutated_bound.append(temp)\n",
    "    return mutated_bound"
   ]
  },
  {
   "cell_type": "code",
   "execution_count": 35,
   "metadata": {
    "id": "lVwDYHOkSmOX"
   },
   "outputs": [],
   "source": [
    "# Fungsi untuk cek constraint pertidaksamaan\n",
    "# 1.) Pd/Ps >= 1\n",
    "# 2.) Pd/Ps <= Ki\n",
    "# 3.) Flow rate kuadrat = 0\n",
    "# Input : target pipe\n",
    "# Output : pipe yang memenuhi constraint\n",
    "def check_inequality(pop, K=[]):\n",
    "\t# Cek Pd >= Ps\n",
    "\tfor p in pop:\n",
    "\t\tif p[0] <= p[1]:\n",
    "\t\t\tp[0],p[1] = p[1],p[0]\n",
    "\t# Cek K\n",
    "\t# Cek Q\n",
    "\treturn pop\n",
    "def check_inequality_2(pop):\n",
    "\tps_init = 500\n",
    "\tfor i in range(len(pop)):\n",
    "\t\tif i == 0:\n",
    "\t\t\tif (pop[i][0]/ps_init) < 1:\n",
    "\t\t\t\treturn False\n",
    "\t\telse:\n",
    "\t\t\tif (pop[i][0]/pop[i-1][1]) < 1:\n",
    "\t\t\t\treturn False\n",
    "\treturn True"
   ]
  },
  {
   "cell_type": "code",
   "execution_count": 36,
   "metadata": {
    "id": "S8r8SqeJpeXY"
   },
   "outputs": [],
   "source": [
    "# Fungsi untuk cek total panjang dari branch 1 dan branch 2\n",
    "def check_length1(pop):\n",
    "    return True if round(sum(pop[:,2])) == 175 else False\n",
    "# Fungsi untuk cek total panjang dari branch 1 dan branch 3\n",
    "def check_length2(pop):\n",
    "    return True if round(sum(pop[:,2])) == 200 else False"
   ]
  },
  {
   "cell_type": "markdown",
   "metadata": {
    "id": "2jKESpaupeXZ"
   },
   "source": [
    "### Process"
   ]
  },
  {
   "cell_type": "markdown",
   "metadata": {
    "id": "Z0-MrpC4peXZ"
   },
   "source": [
    "Bentuk dari populasi awal untuk setiap pipe:</br>\n",
    "pipe1 = [[pd, ps, l, d]1, [pd, ps, l, d]2, [pd, ps, l, d]3, ..., [pd, ps, l, d]1000]</br>\n",
    "pipe2 = [[pd, ps, l, d]1, [pd, ps, l, d]2, [pd, ps, l, d]3, ..., [pd, ps, l, d]1000]</br>\n",
    "pipe3 = [[pd, ps, l, d]1, [pd, ps, l, d]2, [pd, ps, l, d]3, ..., [pd, ps, l, d]1000]</br>\n",
    "...</br>\n",
    "pipe11 = [[pd, ps, l, d]1, [pd, ps, l, d]2, [pd, ps, l, d]3, ..., [pd, ps, l, d]1000]</br>\n",
    "  \n",
    "Setelah diolah DE, output yang diharapkan yaitu vector paling optimal:</br>\n",
    "pipe1 = [pd, ps, l, d]</br>\n",
    "pipe2 = [pd, ps, l, d]</br>\n",
    "pipe3 = [pd, ps, l, d]</br>\n",
    "...</br>\n",
    "pipe11 = [pd, ps, l, d]</br>"
   ]
  },
  {
   "cell_type": "code",
   "execution_count": 37,
   "metadata": {
    "id": "_nOIXNVpSmOL"
   },
   "outputs": [],
   "source": [
    "# Definisi parameter untuk Differential Evolution\n",
    "# ------------------------------\n",
    "pop_size = 2000 # size population candidate solution\n",
    "iter = 50  # number iteration\n",
    "\n",
    "F = 0.02     # scale factor [0, 1]\n",
    "CR = 0.8    # crossover rate [0, 2]\n",
    "\n",
    "n = 10  # number compressor\n",
    "m = n+1 # number pipe\n",
    "N1 = 4  # number compressor in branch 1\n",
    "N2 = 3  # number compressor in branch 2\n",
    "N3 = 3  # number compressor in branch 3"
   ]
  },
  {
   "cell_type": "code",
   "execution_count": 38,
   "metadata": {
    "id": "eF3wQ9uESmOW"
   },
   "outputs": [],
   "source": [
    "# Definisi batas atas dan batas bawah untuk setiap dimensi pipe\n",
    "# pipe = [pd, ps, l, d]\n",
    "\n",
    "# Bounds for branch 1\n",
    "bounds1 = np.asarray([\n",
    "    (590, 1000),(300, 900),(2, 70),(4, 36)\n",
    "])\n",
    "# Bounds for branch 2\n",
    "bounds2 = np.asarray([\n",
    "    (590, 1000),(300, 900),(2, 30),(4, 18)\n",
    "])\n",
    "# Bounds for branch 3\n",
    "bounds3 = np.asarray([\n",
    "    (590, 1000),(200, 860),(2, 70),(4, 18)\n",
    "])"
   ]
  },
  {
   "cell_type": "code",
   "execution_count": 39,
   "metadata": {
    "id": "EB5U_kQCSmON"
   },
   "outputs": [],
   "source": [
    "# Fungsi Q untuk menghitung Flow Rate\n",
    "# Input : pd, ps, L, D\n",
    "# Output : Q\n",
    "def q(pd, ps, l, d):\n",
    "    return (871 * ((d)**(8/3))) * np.sqrt((pd**2 - ps**2) / l)"
   ]
  },
  {
   "cell_type": "code",
   "execution_count": 40,
   "metadata": {
    "id": "8fd6Q4AIpeXb"
   },
   "outputs": [],
   "source": [
    "# Objective Function F()\n",
    "# x = [pd, ps, l, d]\n",
    "\n",
    "# Fungsi objektif untuk operating cost compressor\n",
    "def f_comp(x, q, co = 8, cc = 70.00, T = 520, k = 1.26, z = 0.9):\n",
    "  return ((co + cc) * q * 0.08531 * T * (k/(k - 1)) * ((x[0]/x[1])**((z*(k - 1))/k) - 1))\n",
    "# Fungsi objektif untuk maintenance cost pipe\n",
    "def f_pipe(x, cs = 870):\n",
    "  return (cs * x[2] * x[3])\n",
    "\n",
    "# Fungsi objektif\n",
    "# Input: 1 set pipe (pipe1, pipe2, ..., pipei), jumlah compressor, jumlah pipe\n",
    "# Output: sum fungsi objektif\n",
    "def f(pop, n, m):\n",
    "    sum = 0\n",
    "    for i in range(n):\n",
    "      qi = q(pop[i][0],pop[i][1],pop[i][2],pop[i][3])/1000000\n",
    "      sum += f_comp(pop[i], qi)\n",
    "      for j in range(m):\n",
    "          sum += f_pipe(pop[j])\n",
    "    return sum"
   ]
  },
  {
   "cell_type": "markdown",
   "metadata": {
    "id": "V63PmX2vpeXb"
   },
   "source": [
    "#### Branch 1 + Branch 2"
   ]
  },
  {
   "cell_type": "code",
   "execution_count": 41,
   "metadata": {
    "id": "JnbL5DRipeXb"
   },
   "outputs": [],
   "source": [
    "# Fungsi untuk mengolah populasi awal pipa dari branch 1 dan branch 2 yang hanya memenuhi panjang total\n",
    "# Input : populasi awal pipe branch 1 + branch 2, ukuran populasi, N1, dan N2\n",
    "# Output : vector populasi awal yang memenuhi panjang dari branch 1 dan branch 2\n",
    "def get_pipe_length1(pipe_b1_b2, pop_size, N1, N2):\n",
    "    best_pipe = []\n",
    "    for i in range(pop_size): # 1, 2, ..., 1000\n",
    "        temp = []\n",
    "        sum_pipe = 0\n",
    "        for j in range(N1+N2): # 1, 2, 3, 4, 5, 6, 7\n",
    "            sum_pipe += pipe_b1_b2[j][i][2]\n",
    "            temp.append(pipe_b1_b2[j][i])\n",
    "        if(round(sum_pipe) == 175):\n",
    "            best_pipe.append(temp)\n",
    "    return best_pipe"
   ]
  },
  {
   "cell_type": "code",
   "execution_count": 42,
   "metadata": {
    "id": "4Xkvieo4lHX4"
   },
   "outputs": [],
   "source": [
    "# Proses inisialisasi populasi awal setiap pipe pada branch 1 dan branch 2\n",
    "# <-----Branch 1-----> <--------Branch 2--------->\n",
    "# pipe1, pipe2, pipe3, pipe4, pipe5, pipe6, pipe7,\n",
    "\n",
    "while True:\n",
    "  # Initialize population pipe branch 1\n",
    "  pipe_b1 = []\n",
    "  for i in range(N1-1):\n",
    "    pipe_b1.append(bounds1[:, 0] + (np.random.rand(pop_size, len(bounds1)) * (bounds1[:, 1] - bounds1[:, 0])))\n",
    "  # Initialize population pipe branch 2\n",
    "  pipe_b2 = []\n",
    "  for i in range(N2+1):\n",
    "    pipe_b2.append(bounds2[:, 0] + (np.random.rand(pop_size, len(bounds2)) * (bounds2[:, 1] - bounds2[:, 0])))\n",
    "  # Concatenate population pipe branch 1 and branch 2\n",
    "  pipe_b1_b2 = np.concatenate((pipe_b1, pipe_b2))\n",
    "  # Get all pipes whichs meet constraint length branch 1 and branch 2\n",
    "  best_pipe_b1_b2 = get_pipe_length1(pipe_b1_b2, pop_size, N1, N2)\n",
    "  if(best_pipe_b1_b2 != []):\n",
    "    break"
   ]
  },
  {
   "cell_type": "code",
   "execution_count": 43,
   "metadata": {
    "colab": {
     "base_uri": "https://localhost:8080/"
    },
    "id": "xtoxa-QIpeXd",
    "outputId": "67516591-3f3c-4ba0-90c8-452172b738fc"
   },
   "outputs": [
    {
     "data": {
      "text/plain": [
       "22"
      ]
     },
     "execution_count": 43,
     "metadata": {},
     "output_type": "execute_result"
    }
   ],
   "source": [
    "# Cek berapa populasi awal vector yang memenuhi panjang total\n",
    "len(best_pipe_b1_b2)"
   ]
  },
  {
   "cell_type": "code",
   "execution_count": 44,
   "metadata": {
    "id": "CxpeFk8QpeXe"
   },
   "outputs": [],
   "source": [
    "# Fungsi differential evolution untuk pipe branch 1 dan branch 2\n",
    "def diff_evol1(pop_pipe, iter, pop_size, bounds, F, CR):\n",
    "\n",
    "    # Check inequality\n",
    "    pop_pipe = [check_inequality(p) for p in pop_pipe]\n",
    "    pop_pipe = np.array(pop_pipe)\n",
    "\n",
    "    # Evaluate initial population candidate solution\n",
    "    obj_all = [f(p, N1+N2, N1+N2) for p in pop_pipe]\n",
    "\n",
    "    # Find the best vector of initial population\n",
    "    best_vector = pop_pipe[np.argmin(obj_all)]\n",
    "    best_obj = min(obj_all)\n",
    "    prev_obj = best_obj\n",
    "\n",
    "    for i in range(iter):\n",
    "        # Iterate over all candidate solution\n",
    "        for j in range(pop_size):\n",
    "            # MUTATION\n",
    "            while(True):\n",
    "                # Choose 3 candidate solution : a, b, c.\n",
    "                # Xbest, X1, X2\n",
    "                a = pop_pipe[np.argmin(obj_all)]\n",
    "                # Choose 5 candidate solution : a, b, c, d, e\n",
    "                candidates = [candidate for candidate in range(pop_size) if candidate != j]\n",
    "                b, c, d, e = pop_pipe[np.random.choice(candidates, 4, replace=False)]\n",
    "                # Perform mutation\n",
    "                mutated = mutation([a, b, c, d, e], F)\n",
    "                # Check bound mutated vector\n",
    "                mutated_b1 = check_bounds(mutated[:3], bounds[0])\n",
    "                mutated_b2 = check_bounds(mutated[3:], bounds[1])\n",
    "                mutated = np.concatenate((mutated_b1, mutated_b2))\n",
    "                # Check inequality const\n",
    "                mutated = check_inequality(mutated)\n",
    "                    # Check lenght, if true continue, else LOOP UNTIL\n",
    "                if check_length1(mutated):\n",
    "                    break\n",
    "\n",
    "            # CROSSOVER\n",
    "            # Perform crossover\n",
    "            while(True):\n",
    "                trial = np.array(crossover(mutated, pop_pipe[j], N1+N2, CR))\n",
    "                if check_length1(trial):\n",
    "                    break\n",
    "\n",
    "            # Compute objective function value for target vector\n",
    "            obj_target = f(pop_pipe[j], N1+N2, N1+N2)\n",
    "            # Compute objective function value for trial vector\n",
    "            obj_trial = f(trial, N1+N2, N1+N2)\n",
    "\n",
    "            # SELECTION\n",
    "            # Perform selection\n",
    "            if obj_trial < obj_target:\n",
    "               # Replace target vector with trial vector\n",
    "               pop_pipe[j] = trial\n",
    "               # Store the new obj function value\n",
    "               obj_all[j] = obj_trial\n",
    "\n",
    "        # Find best performing vector each iteration\n",
    "        best_obj = min(obj_all)\n",
    "        # Store the lowest obj function value\n",
    "        if best_obj < prev_obj:\n",
    "            best_vector = pop_pipe[np.argmin(obj_all)]\n",
    "            prev_obj = best_obj\n",
    "\n",
    "        # Print progress iteration\n",
    "        # print('Iteration %d : f[%s] = %.5f' % (i, np.around(best_vector, decimals=5), best_obj))\n",
    "        # print('--------------------')\n",
    "\n",
    "    return [best_vector, best_obj]"
   ]
  },
  {
   "cell_type": "code",
   "execution_count": 84,
   "metadata": {
    "id": "pq3yl_irpeXf"
   },
   "outputs": [
    {
     "name": "stdout",
     "output_type": "stream",
     "text": [
      "[array([[801.65267785, 745.35712693,   4.55959436,  11.00420971],\n",
      "       [793.5576423 , 782.97887055,  60.54758165,   5.92769933],\n",
      "       [815.9224664 , 814.55948331,  43.4234923 ,   4.11951597],\n",
      "       [878.83401598, 772.99133434,  26.22369984,   4.03802229],\n",
      "       [983.85986447, 312.34941455,  19.10870964,   7.09785052],\n",
      "       [662.57210768, 582.41524186,   6.58758298,  11.90647198],\n",
      "       [656.9181905 , 615.86828904,  14.14441332,   6.30210456]]), 6261237.857908147]\n",
      "[array([[803.96192499, 732.96492598,   6.7283193 ,  12.60674815],\n",
      "       [784.59022065, 760.12885299,  57.54472783,   7.28754758],\n",
      "       [822.35633701, 808.1293094 ,  43.23239194,   4.9769727 ],\n",
      "       [892.3828683 , 755.18169306,  25.75980279,   4.76839516],\n",
      "       [978.78695846, 327.79059924,  19.54476806,   6.71932827],\n",
      "       [687.56948007, 577.35704874,   7.95143608,  11.82518186],\n",
      "       [661.22873908, 617.59433563,  14.13805001,   6.30976442]]), 7233823.157978418]\n",
      "[array([[799.98981469, 725.45633302,   5.69355158,  12.40081224],\n",
      "       [800.75512096, 786.05575034,  60.36685009,   6.21993262],\n",
      "       [825.9304832 , 821.58612509,  41.82719979,   4.00000069],\n",
      "       [892.37159404, 728.86826731,  26.01185576,   4.10702945],\n",
      "       [965.42979413, 304.67703093,  18.16676794,   6.52281728],\n",
      "       [691.64378855, 586.25553419,   7.98875923,  12.13802796],\n",
      "       [657.77509382, 595.61840777,  14.85448504,   6.62198023]]), 6491564.088090741]\n",
      "[array([[788.76031745, 737.75315595,   4.55489713,  11.25185566],\n",
      "       [778.14196593, 777.55306978,  58.34171766,   5.7951515 ],\n",
      "       [815.76510928, 813.47557482,  43.31881608,   6.6667752 ],\n",
      "       [756.19692472, 663.53778393,   3.98705563,  13.71055563],\n",
      "       [965.69322994, 328.40555081,  20.19699032,   6.98914221],\n",
      "       [994.39259397, 433.94216765,  29.99997962,   4.18015792],\n",
      "       [665.71355091, 614.60687981,  14.16791429,   6.75465551]]), 6891697.837495306]\n",
      "[array([[815.40833558, 727.87854285,   3.2271841 ,  11.8933061 ],\n",
      "       [810.70695907, 785.50114717,  58.38494133,   6.99519949],\n",
      "       [840.93724013, 826.84201325,  45.19698198,   4.00000478],\n",
      "       [890.91402528, 742.37657836,  26.27356804,   4.00024531],\n",
      "       [999.99953471, 306.51467502,  20.30775187,   5.56281356],\n",
      "       [649.03569933, 586.51270749,   6.1620623 ,  13.14632571],\n",
      "       [647.35850205, 623.87752837,  14.94757792,   6.00304477]]), 6343199.9334858805]\n",
      "[array([[796.56745514, 709.91657937,   4.15579842,  12.27398257],\n",
      "       [787.91897661, 781.97123534,  54.61595814,   5.79018702],\n",
      "       [842.96904503, 830.88539043,  46.74901536,   4.38142591],\n",
      "       [882.92066312, 730.17288779,  23.89212135,   4.56071347],\n",
      "       [663.34071352, 300.00882892,  20.99448592,   4.0007756 ],\n",
      "       [671.90369448, 609.07305173,   9.92892542,  12.29122375],\n",
      "       [649.05975956, 593.99256454,  14.16950531,   6.73235808]]), 6065451.999028056]\n",
      "[array([[794.44501521, 726.68669635,   4.99036277,  12.76783977],\n",
      "       [799.24905006, 799.23073302,  57.42285766,   6.97925228],\n",
      "       [826.3316335 , 825.46170295,  43.4144563 ,   4.00000051],\n",
      "       [860.0676588 , 749.51931992,  24.69639471,   4.00605101],\n",
      "       [963.06527654, 336.37357586,  20.20680949,   6.60842612],\n",
      "       [685.53334933, 589.5842756 ,   9.18453468,  11.91351618],\n",
      "       [648.07826888, 589.55784569,  14.59503732,   6.65418003]]), 6727932.39838944]\n",
      "[array([[806.16619321, 722.47382732,   6.2780963 ,  12.54562708],\n",
      "       [785.39848523, 755.65611471,  55.72154168,   6.86775853],\n",
      "       [819.76558769, 819.76398714,  44.01408327,   4.8156314 ],\n",
      "       [890.02461067, 750.95788936,  25.59309337,   4.99911527],\n",
      "       [964.59437186, 327.2828869 ,  20.20681392,   6.14863232],\n",
      "       [685.06972339, 604.41948263,   9.21354322,  11.89045739],\n",
      "       [665.5602372 , 616.07558942,  14.22846821,   6.32386933]]), 7004139.749379287]\n",
      "[array([[808.79656164, 752.37651342,   2.44698686,  11.36516335],\n",
      "       [797.74617524, 797.51890656,  59.51627675,   6.67634216],\n",
      "       [846.25427788, 844.03429825,  45.82739337,   4.11014267],\n",
      "       [890.52859536, 752.3553087 ,  24.80021104,   4.00031101],\n",
      "       [999.52631479, 300.61699376,  20.73297442,   5.73266775],\n",
      "       [662.84829447, 599.18362041,   7.41148963,  12.24463833],\n",
      "       [654.57655221, 606.19686386,  13.90032907,   6.18263076]]), 6271822.041650661]\n",
      "[array([[807.67250742, 717.25081653,   6.00674863,  12.27106127],\n",
      "       [797.38548642, 790.07566992,  58.60945678,   7.41498584],\n",
      "       [819.17991509, 807.67634227,  44.09416458,   6.63787904],\n",
      "       [863.86121614, 746.18048596,  25.06388525,   4.0043725 ],\n",
      "       [967.44811618, 326.464484  ,  19.51349215,   5.6896135 ],\n",
      "       [657.97257718, 596.06359516,   7.71939308,  12.26473969],\n",
      "       [644.14144282, 602.56535805,  14.22171696,   6.27876254]]), 7419525.669343831]\n",
      "[array([[804.61932313, 733.41150079,   6.6326752 ,  12.33011669],\n",
      "       [780.34029394, 769.33104882,  56.29138767,   6.52175201],\n",
      "       [830.31158461, 823.84707885,  44.55538412,   5.38825878],\n",
      "       [891.88073878, 757.18281351,  25.57190871,   4.1482795 ],\n",
      "       [973.07380044, 300.00000081,  20.64315935,   5.37409253],\n",
      "       [666.11989919, 601.57619244,   7.81712845,  12.34784015],\n",
      "       [645.74972823, 622.20842375,  13.65259161,   6.3923434 ]]), 6753574.274535238]\n",
      "[array([[809.42542906, 754.09562456,   4.91664157,  11.6008932 ],\n",
      "       [788.98927381, 767.28976285,  56.71735827,   4.63782955],\n",
      "       [830.91534494, 826.69785808,  43.89120169,   4.00090006],\n",
      "       [870.49230435, 755.37233113,  26.28635554,   4.19812308],\n",
      "       [989.8881155 , 300.        ,  19.68549069,   5.73539291],\n",
      "       [682.29294733, 610.76838928,   8.63280485,  11.73185758],\n",
      "       [661.88576406, 621.84331203,  15.00266945,   6.63441192]]), 5725742.665529126]\n",
      "[array([[788.42485237, 723.79513009,   2.43262549,  12.31514908],\n",
      "       [798.28120436, 797.03906521,  58.25269737,   5.36749365],\n",
      "       [856.24139205, 844.32274987,  45.32687103,   4.00005973],\n",
      "       [892.7687513 , 736.49859426,  24.84558412,   4.28209033],\n",
      "       [977.96792048, 300.00302782,  20.63272479,   5.96023522],\n",
      "       [690.21715406, 585.64455529,   8.66905527,  12.02325319],\n",
      "       [636.27709856, 612.82755143,  14.54049023,   6.35564128]]), 5954740.8848107215]\n",
      "[array([[792.54503836, 735.94199647,   4.67939163,  13.1465196 ],\n",
      "       [798.1272872 , 798.00439622,  57.04213301,   6.36912063],\n",
      "       [847.03969825, 843.62688791,  44.81803822,   4.86525974],\n",
      "       [867.40884649, 733.81502348,  23.72481885,   4.36353966],\n",
      "       [986.47083926, 303.84346839,  20.65282937,   5.80461034],\n",
      "       [688.54926537, 596.28961452,   9.7358757 ,  12.19932942],\n",
      "       [655.53429216, 609.2093533 ,  14.70984583,   6.85876196]]), 6758935.43798772]\n",
      "[array([[813.48810759, 751.96989068,   2.00586729,  10.13996811],\n",
      "       [786.546904  , 780.46646671,  58.66373847,   5.24832776],\n",
      "       [829.63503703, 827.3249747 ,  45.92989362,   4.        ],\n",
      "       [868.61507675, 749.8900559 ,  25.67559653,   4.00032767],\n",
      "       [991.36443718, 308.61997929,  20.5446454 ,   6.47800473],\n",
      "       [645.63610411, 611.51749188,   6.68313986,  11.78687661],\n",
      "       [635.15157507, 588.90642481,  14.99956753,   6.49018267]]), 5767991.431868733]\n",
      "[array([[805.17330066, 718.14246508,   4.21017786,  11.27003078],\n",
      "       [777.55298169, 764.38715212,  60.10681802,   6.18768784],\n",
      "       [812.44315676, 804.01376801,  43.55618664,   4.41980594],\n",
      "       [899.61525311, 760.23519267,  26.66965733,   4.6463072 ],\n",
      "       [985.7300049 , 300.00020956,  18.92841598,   6.55825374],\n",
      "       [738.8193472 , 459.97555963,   7.27544966,   7.69449217],\n",
      "       [642.77617979, 612.78565416,  14.28003235,   6.0358305 ]]), 6325794.545247599]\n",
      "[array([[814.95850542, 744.097067  ,   4.58159311,  11.17344123],\n",
      "       [789.33277445, 766.97545798,  60.94183923,   6.89881595],\n",
      "       [807.17310896, 806.15223126,  45.27800994,   5.01167009],\n",
      "       [893.02098503, 780.62112974,  25.18530665,   4.00005626],\n",
      "       [980.45471206, 316.65613282,  19.44147994,   6.96668659],\n",
      "       [647.78069255, 601.82731494,   5.88359419,  11.24648396],\n",
      "       [641.15126134, 594.18575413,  13.97391875,   5.64150767]]), 6742296.1089524245]\n",
      "[array([[808.35626506, 713.59841878,   5.97141237,  12.90469288],\n",
      "       [792.34518468, 783.1423985 ,  60.17109506,   9.10837676],\n",
      "       [811.78664115, 809.3810904 ,  44.74390927,   6.21379845],\n",
      "       [888.08405691, 727.70750235,  24.36490377,   4.31577385],\n",
      "       [971.56704083, 309.46772544,  19.13133152,   6.47800437],\n",
      "       [682.62675975, 587.15874661,   7.08905782,  11.85321355],\n",
      "       [655.3821674 , 606.40968062,  13.62337276,   6.09806123]]), 8112206.32872784]\n",
      "[array([[802.72322934, 721.55142872,   2.00096615,  11.17976826],\n",
      "       [795.53710845, 781.93144494,  60.3027753 ,   7.05782818],\n",
      "       [830.05353301, 822.35097201,  44.52087328,   4.95750234],\n",
      "       [874.74447367, 730.08086138,  26.28929297,   4.4516468 ],\n",
      "       [968.62244664, 312.51349481,  19.12559012,   6.20364937],\n",
      "       [676.82349806, 589.63255563,   7.38571047,  12.18684788],\n",
      "       [638.32014129, 591.88372667,  15.02152671,   6.56808674]]), 6836073.808878324]\n",
      "[array([[797.31785004, 720.55616893,   6.24921991,  11.97031351],\n",
      "       [777.4630868 , 772.93543199,  56.57585385,   6.13754741],\n",
      "       [835.6552248 , 830.96681959,  43.14546574,   4.14030573],\n",
      "       [907.14760664, 751.32888816,  25.55774944,   4.59863691],\n",
      "       [655.72708207, 301.60848786,  20.85119185,   4.00000701],\n",
      "       [660.97069082, 580.75008856,   8.21065989,  12.84848745],\n",
      "       [636.03014153, 624.29034908,  14.32900826,   6.27895097]]), 6150978.365784577]\n",
      "[array([[803.48800522, 715.73195671,   2.28942174,  10.80646123],\n",
      "       [781.60281298, 777.50487361,  57.50321768,   6.54073594],\n",
      "       [834.38623033, 828.24682716,  47.65386077,   4.01254159],\n",
      "       [900.14364576, 752.79730869,  25.20264527,   4.5200536 ],\n",
      "       [969.65558687, 300.23249282,  20.54459994,   5.96837279],\n",
      "       [653.19648536, 571.34075608,   7.23066413,  12.48143483],\n",
      "       [655.28724912, 602.55467006,  14.69190082,   6.5859565 ]]), 6354838.3062705565]\n",
      "[array([[810.75620461, 718.31613095,   5.3018538 ,  12.36035977],\n",
      "       [795.70308236, 784.76900458,  57.13078026,   7.16308273],\n",
      "       [828.39340686, 826.42507924,  45.70592104,   5.16509547],\n",
      "       [877.94027746, 743.37861556,  25.18378171,   4.00111074],\n",
      "       [658.16610349, 308.28395493,  20.61028926,   4.00111795],\n",
      "       [663.27315299, 581.34032183,   7.17413003,  12.27589157],\n",
      "       [649.55527556, 609.53430919,  14.28427513,   6.52983101]]), 6642954.408183483]\n",
      "[array([[793.82228995, 755.93602504,   3.49963184,  12.68557912],\n",
      "       [805.42435818, 804.61225543,  58.92717638,   5.93295009],\n",
      "       [848.58429746, 841.36165587,  42.54044626,   4.00003919],\n",
      "       [868.34284624, 765.29988572,  25.38365496,   4.00072915],\n",
      "       [630.5424722 , 308.6161801 ,  20.59032943,   4.00000001],\n",
      "       [648.70874679, 608.96789892,   8.6663353 ,  12.40248253],\n",
      "       [629.23399262, 571.71580127,  15.01870908,   6.50822924]]), 5845493.766450619]\n",
      "[array([[791.30667422, 736.40421436,   3.5104185 ,  11.74877407],\n",
      "       [801.90720127, 801.50362716,  60.1453918 ,   6.73892153],\n",
      "       [827.27531893, 823.06496501,  42.24320475,   4.47587294],\n",
      "       [881.46803888, 767.48979882,  26.07533752,   4.00752385],\n",
      "       [983.98507372, 311.33246584,  20.6220919 ,   7.00496979],\n",
      "       [656.53281743, 609.62408039,   7.93335615,  11.98867235],\n",
      "       [659.3969611 , 598.51203881,  14.09418111,   6.21169052]]), 6666743.88087158]\n",
      "[array([[808.15628111, 746.25298083,   4.11324092,  11.85958562],\n",
      "       [795.88225387, 778.86928118,  60.02798284,   6.86474601],\n",
      "       [820.13148621, 815.99646926,  43.8717917 ,   4.13573966],\n",
      "       [886.5113657 , 774.21992075,  26.06609951,   4.01405145],\n",
      "       [994.19186696, 325.17027316,  19.60054673,   6.69841168],\n",
      "       [720.8533395 , 490.38549554,   6.91966834,   7.44222249],\n",
      "       [647.36293548, 599.65642069,  14.21939595,   6.00470927]]), 6369379.754354025]\n"
     ]
    }
   ],
   "source": [
    "# Proses Differential Evolution hingga memenuhi setiap constraint\n",
    "# Hingga memenuhi Ps demand 1 = 600 psi\n",
    "while(True):\n",
    "    best_b1_b2 = diff_evol1(best_pipe_b1_b2, iter, len(best_pipe_b1_b2), [bounds1, bounds2], F, CR)\n",
    "    status = False\n",
    "    print(best_b1_b2)\n",
    "    if(round(best_b1_b2[0][N1+N2-1][1]) == 600 and check_inequality_2(best_b1_b2[0])):\n",
    "        break"
   ]
  },
  {
   "cell_type": "code",
   "execution_count": 85,
   "metadata": {
    "colab": {
     "base_uri": "https://localhost:8080/"
    },
    "id": "JxGPwSuipeXf",
    "outputId": "4e6f1c39-6a15-43c0-a752-86903c373795"
   },
   "outputs": [
    {
     "data": {
      "text/plain": [
       "[array([[808.15628111, 746.25298083,   4.11324092,  11.85958562],\n",
       "        [795.88225387, 778.86928118,  60.02798284,   6.86474601],\n",
       "        [820.13148621, 815.99646926,  43.8717917 ,   4.13573966],\n",
       "        [886.5113657 , 774.21992075,  26.06609951,   4.01405145],\n",
       "        [994.19186696, 325.17027316,  19.60054673,   6.69841168],\n",
       "        [720.8533395 , 490.38549554,   6.91966834,   7.44222249],\n",
       "        [647.36293548, 599.65642069,  14.21939595,   6.00470927]]),\n",
       " 6369379.754354025]"
      ]
     },
     "execution_count": 85,
     "metadata": {},
     "output_type": "execute_result"
    }
   ],
   "source": [
    "# Vector terbaik untuk branch 1 dan branch 2\n",
    "best_b1_b2"
   ]
  },
  {
   "cell_type": "markdown",
   "metadata": {
    "id": "xC4EUP1ipeXf"
   },
   "source": [
    "#### Branch 1 + Branch 3"
   ]
  },
  {
   "cell_type": "code",
   "execution_count": 86,
   "metadata": {
    "id": "juweiJ4GpeXg"
   },
   "outputs": [],
   "source": [
    "# Mengambil vector pipe pada branch 1 yang akan digunakan untuk evaluasi\n",
    "demand1_index = 0\n",
    "for i in range(len(best_b1_b2[0])):\n",
    "    if round(best_b1_b2[0][i][1]) == 600:\n",
    "        demand1_index = i\n",
    "best_b1 = []\n",
    "for p in best_b1_b2[0]:\n",
    "    if(round(p[1]) != 600):\n",
    "        best_b1.append(p)\n",
    "    if len(best_b1) == N1-1:\n",
    "        break"
   ]
  },
  {
   "cell_type": "code",
   "execution_count": 87,
   "metadata": {
    "id": "1lk1-oJUpeXg"
   },
   "outputs": [],
   "source": [
    "# Fungsi untuk mengolah populasi awal pipa dari branch 1 dan branch 3 yang hanya memenuhi panjang total\n",
    "# Input : populasi awal pipe branch 1 + branch 3, ukuran populasi, N1, dan N3\n",
    "# Output : vector populasi awal yang memenuhi panjang dari branch 1 dan branch 3\n",
    "def get_pipe_length2(pipe_b3, best_b1, pop_size, N1, N3):\n",
    "    best_pipe = []\n",
    "    for i in range(pop_size): # 1, 2, ..., 50\n",
    "        temp = []\n",
    "        sum_pipe = 0\n",
    "        for j in range(N1+N3): # 1, 2, 3, 4, 5, 6, 7\n",
    "            if j < N1-1: # 0, 1, 2\n",
    "                sum_pipe += best_b1[j][2]\n",
    "            if j >= N1-1: # 3, 4, 5, 6 => 0, 1, 2, 3\n",
    "                sum_pipe += pipe_b3[j-N3][i][2]\n",
    "                temp.append(pipe_b3[j-N3][i])\n",
    "        if(round(sum_pipe) == 200):\n",
    "            best_pipe.append(temp)\n",
    "    return best_pipe"
   ]
  },
  {
   "cell_type": "code",
   "execution_count": 88,
   "metadata": {
    "id": "dm6U6bcapeXh"
   },
   "outputs": [],
   "source": [
    "# Proses inisialisasi populasi awal setiap pipe pada branch 3\n",
    "# <-----Branch 1-----> <--------Branch 3----------->\n",
    "# pipe1, pipe2, pipe3, pipe8, pipe9, pipe10, pipe11,\n",
    "def create_pipe_b3():\n",
    "  while True:\n",
    "    # Initialize population pipe branch 3\n",
    "    pipe_b3 = []\n",
    "    for i in range(N3+1):\n",
    "      pipe_b3.append(bounds3[:, 0] + (np.random.rand(pop_size, len(bounds3)) * (bounds3[:, 1] - bounds3[:, 0])))\n",
    "    best_pipe_b3 = get_pipe_length2(pipe_b3, best_b1, pop_size, N1, N3)\n",
    "    if(best_pipe_b3 != [] and len(best_pipe_b3) > 4):\n",
    "      break\n",
    "  return best_pipe_b3"
   ]
  },
  {
   "cell_type": "code",
   "execution_count": 89,
   "metadata": {
    "id": "Eb7rovnOpeXh"
   },
   "outputs": [],
   "source": [
    "def diff_evol_2(pop_pipe_b3, best_b1, iter, pop_size, bounds, F, CR):\n",
    "\n",
    "    # Check inequality branch 3\n",
    "    pop_pipe = [check_inequality(p) for p in pop_pipe_b3]\n",
    "    pop_pipe = np.array(pop_pipe)\n",
    "\n",
    "    # Evaluate initial population candidate solution\n",
    "    temp = [np.concatenate((best_b1, p)) for p in pop_pipe_b3]\n",
    "    obj_all = [f(p, N1+N3, N1+N3) for p in temp]\n",
    "\n",
    "    # Find the best vector of initial population\n",
    "    best_vector = pop_pipe[np.argmin(obj_all)]\n",
    "    best_obj = min(obj_all)\n",
    "    prev_obj = best_obj\n",
    "\n",
    "    for i in range(iter):\n",
    "        # Iterate over all candidate solution\n",
    "        for j in range(pop_size):\n",
    "            # MUTATION\n",
    "            while(True):\n",
    "                # Choose 3 candidate solution : a, b, c.\n",
    "                # Xbest, X1, X2\n",
    "                a = pop_pipe[np.argmin(obj_all)]\n",
    "                # Choose 5 candidate solution : a, b, c, d, e\n",
    "                candidates = [candidate for candidate in range(pop_size) if candidate != j]\n",
    "                b, c, d, e = pop_pipe[np.random.choice(candidates, 4, replace=False)]\n",
    "                # Perform mutation\n",
    "                mutated = mutation([a, b, c, d, e], F)\n",
    "                # Check bound mutated vector\n",
    "                mutated = check_bounds(mutated, bounds)\n",
    "                # Check inequality const\n",
    "                mutated = check_inequality(mutated)\n",
    "                # Check lenght, if true continue, else LOOP UNTIL\n",
    "                temp = np.concatenate((best_b1, mutated))\n",
    "                if check_length2(temp):\n",
    "                    break\n",
    "            # CROSSOVER\n",
    "            # Perform crossover\n",
    "            while(True):\n",
    "                mutated_temp = np.concatenate((best_b1, mutated))\n",
    "                target_temp = np.concatenate((best_b1, pop_pipe[j]))\n",
    "                trial = np.array(crossover(mutated_temp, target_temp, N1+N3, CR))\n",
    "                if check_length2(trial):\n",
    "                    break\n",
    "\n",
    "            # Compute objective function value for target vector]\n",
    "            obj_target = f(target_temp, N1+N3, N1+N3)\n",
    "            # Compute objective function value for trial vector\n",
    "            obj_trial = f(trial, N1+N3, N1+N3)\n",
    "\n",
    "            # SELECTION\n",
    "            # Perform selection\n",
    "            if obj_trial < obj_target:\n",
    "               # Replace target vector with trial vector\n",
    "               pop_pipe[j] = trial[3:]\n",
    "               # Store the new obj function value\n",
    "               obj_all[j] = obj_trial\n",
    "\n",
    "        # Find best performing vector each iteration\n",
    "        best_obj = min(obj_all)\n",
    "        # Store the lowest obj function value\n",
    "        if best_obj < prev_obj:\n",
    "            best_vector = pop_pipe[np.argmin(obj_all)]\n",
    "            prev_obj = best_obj\n",
    "\n",
    "    #     # Print progress iteration\n",
    "    #     # print('Iteration %d : f[%s] = %.5f' % (i, np.around(best_vector, decimals=5), best_obj))\n",
    "    #     # print('--------------------')\n",
    "    best_vector = np.concatenate((best_b1, best_vector))\n",
    "    return [best_vector, best_obj]"
   ]
  },
  {
   "cell_type": "code",
   "execution_count": 90,
   "metadata": {
    "id": "8FkjNXYXpeXh"
   },
   "outputs": [],
   "source": [
    "while(True):\n",
    "    best_pipe_b3 = create_pipe_b3()\n",
    "    best_b1_b3 = diff_evol_2(best_pipe_b3, best_b1, iter, len(best_pipe_b3), bounds3, F, CR)\n",
    "    status = False\n",
    "    if(round(best_b1_b3[0][N1+N3-1][1]) == 300):\n",
    "        status = True\n",
    "    if status and (best_b1_b3[0][:3] == best_b1).all() and check_inequality_2(best_b1_b3[0][:3]):\n",
    "        break"
   ]
  },
  {
   "cell_type": "code",
   "execution_count": 91,
   "metadata": {
    "colab": {
     "base_uri": "https://localhost:8080/"
    },
    "id": "KZCGGp2owY9J",
    "outputId": "c5008b2a-2832-42bd-cf9c-2b83948fd5f7"
   },
   "outputs": [
    {
     "data": {
      "text/plain": [
       "[array([[808.15628111, 746.25298083,   4.11324092,  11.85958562],\n",
       "        [795.88225387, 778.86928118,  60.02798284,   6.86474601],\n",
       "        [820.13148621, 815.99646926,  43.8717917 ,   4.13573966],\n",
       "        [769.98554996, 759.77710434,  33.52226243,   4.        ],\n",
       "        [806.35397313, 597.88234014,  18.29798184,   6.08158729],\n",
       "        [988.08942446, 266.42319103,  22.27148522,   8.74700285],\n",
       "        [819.52623498, 299.69672636,  17.48655517,   8.56925161]]),\n",
       " 7974353.772860894]"
      ]
     },
     "execution_count": 91,
     "metadata": {},
     "output_type": "execute_result"
    }
   ],
   "source": [
    "best_b1_b3"
   ]
  },
  {
   "cell_type": "markdown",
   "metadata": {
    "id": "kg2n_r9xpeXh"
   },
   "source": [
    "### Results"
   ]
  },
  {
   "cell_type": "code",
   "execution_count": 92,
   "metadata": {
    "colab": {
     "base_uri": "https://localhost:8080/"
    },
    "id": "gYOPm1vzpeXi",
    "outputId": "32d0fc6c-aa46-4ec7-f8f9-034604135f25"
   },
   "outputs": [
    {
     "name": "stdout",
     "output_type": "stream",
     "text": [
      "Branch 1\n",
      "Pipe 1: [808.15628111 746.25298083   4.11324092  11.85958562]\n",
      "Pipe 2: [795.88225387 778.86928118  60.02798284   6.86474601]\n",
      "Pipe 3: [820.13148621 815.99646926  43.8717917    4.13573966]\n"
     ]
    }
   ],
   "source": [
    "# Best vector untuk pipe di branch 1\n",
    "print('Branch 1')\n",
    "for i in range(len(best_b1)):\n",
    "    print('Pipe {0}: {1}'.format(i+1, best_b1[i]))\n"
   ]
  },
  {
   "cell_type": "code",
   "execution_count": 93,
   "metadata": {
    "colab": {
     "base_uri": "https://localhost:8080/"
    },
    "id": "Zv7AKhOmpeXi",
    "outputId": "324ab454-8da5-422e-b9c5-fc69d3c9bc40"
   },
   "outputs": [
    {
     "name": "stdout",
     "output_type": "stream",
     "text": [
      "Branch 1 dan Branch 2\n",
      "Pipe 1: [808.15628111 746.25298083   4.11324092  11.85958562]\n",
      "Pipe 2: [795.88225387 778.86928118  60.02798284   6.86474601]\n",
      "Pipe 3: [820.13148621 815.99646926  43.8717917    4.13573966]\n",
      "Pipe 4: [886.5113657  774.21992075  26.06609951   4.01405145]\n",
      "Pipe 5: [994.19186696 325.17027316  19.60054673   6.69841168]\n",
      "Pipe 6: [720.8533395  490.38549554   6.91966834   7.44222249]\n",
      "Pipe 7: [647.36293548 599.65642069  14.21939595   6.00470927]\n",
      "--------------------------------\n",
      "F(x) =  6369379.754354025\n",
      "Sum L =  174.81872599111313\n",
      "Ps == 600 terpenuhi pada pipe ke 7\n"
     ]
    }
   ],
   "source": [
    "# Best vector untuk pipe di branch 1 dan branch 2\n",
    "print('Branch 1 dan Branch 2')\n",
    "for i in range(len(best_b1_b2[0])):\n",
    "    print('Pipe {0}: {1}'.format(i+1, best_b1_b2[0][i]))\n",
    "    if round(best_b1_b2[0][i][1]) == 600:ps1 = i\n",
    "print('--------------------------------')\n",
    "print('F(x) = ',best_b1_b2[1])\n",
    "print('Sum L = ',sum(best_b1_b2[0][:,2]))\n",
    "\n",
    "print('Ps == 600 terpenuhi pada pipe ke',ps1+1)\n"
   ]
  },
  {
   "cell_type": "code",
   "execution_count": 94,
   "metadata": {
    "colab": {
     "base_uri": "https://localhost:8080/"
    },
    "id": "DKsRQUq-peXj",
    "outputId": "0e1123b6-e822-47e5-ca12-b2b04bf7016e"
   },
   "outputs": [
    {
     "name": "stdout",
     "output_type": "stream",
     "text": [
      "Branch 1 dan Branch 3\n",
      "Pipe 1: [808.15628111 746.25298083   4.11324092  11.85958562]\n",
      "Pipe 2: [795.88225387 778.86928118  60.02798284   6.86474601]\n",
      "Pipe 3: [820.13148621 815.99646926  43.8717917    4.13573966]\n",
      "Pipe 8: [769.98554996 759.77710434  33.52226243   4.        ]\n",
      "Pipe 9: [806.35397313 597.88234014  18.29798184   6.08158729]\n",
      "Pipe 10: [988.08942446 266.42319103  22.27148522   8.74700285]\n",
      "Pipe 11: [819.52623498 299.69672636  17.48655517   8.56925161]\n",
      "--------------------------------\n",
      "F(x) =  7974353.772860894\n",
      "Sum L =  199.59130012124314\n",
      "Ps == 300 terpenuhi pada pipe ke 11\n"
     ]
    }
   ],
   "source": [
    "# Best vector untuk pipe di branch 1 dan branch 3\n",
    "print('Branch 1 dan Branch 3')\n",
    "for i in range(len(best_b1_b3[0])):\n",
    "    j = i+4 if i > 2 else i\n",
    "    if round(best_b1_b3[0][i][1]) == 300:ps2 = j\n",
    "    print('Pipe {0}: {1}'.format(j+1, best_b1_b3[0][i]))\n",
    "print('--------------------------------')\n",
    "print('F(x) = ',best_b1_b3[1])\n",
    "print('Sum L = ',sum(best_b1_b3[0][:,2]))\n",
    "\n",
    "print('Ps == 300 terpenuhi pada pipe ke',ps2+1)"
   ]
  },
  {
   "cell_type": "code",
   "execution_count": 95,
   "metadata": {
    "colab": {
     "base_uri": "https://localhost:8080/"
    },
    "id": "Sff0svR8peXj",
    "outputId": "b62ae1ba-3d45-46aa-bec2-3074df853841"
   },
   "outputs": [
    {
     "name": "stdout",
     "output_type": "stream",
     "text": [
      "Best vector setiap branch:\n",
      "\t|     Pd     |     Ps     |     L       |      D      |        Q         |\n",
      "Pipe 1: [808.15628111 746.25298083   4.11324092  11.85958562]  97.44308916525291\n",
      "Pipe 2: [795.88225387 778.86928118  60.02798284   6.86474601]  3.132102736982826\n",
      "Pipe 3: [820.13148621 815.99646926  43.8717917    4.13573966]  0.47666646189536754\n",
      "---------------------------------\n",
      "Pipe 4: [886.5113657  774.21992075  26.06609951   4.01405145]  2.998179583906489\n",
      "Pipe 5: [994.19186696 325.17027316  19.60054673   6.69841168]  29.469834675866334\n",
      "Pipe 6: [720.8533395  490.38549554   6.91966834   7.44222249]  36.93481913203529\n",
      "Pipe 7: [647.36293548 599.65642069  14.21939595   6.00470927]  6.710913640657248\n",
      "---------------------------------\n",
      "Pipe 8: [769.98554996 759.77710434  33.52226243   4.        ]  0.7579431660595349\n",
      "Pipe 9: [806.35397313 597.88234014  18.29798184   6.08158729]  13.576005159681115\n",
      "Pipe 10: [988.08942446 266.42319103  22.27148522   8.74700285]  57.039273949470136\n",
      "Pipe 11: [819.52623498 299.69672636  17.48655517   8.56925161]  48.854268256889945\n",
      "---------------------------------\n",
      "Ps = 600 terpenuhi pada pipe ke: 7\n",
      "Ps = 300 terpenuhi pada pipe ke: 11\n",
      "---------------------------------\n",
      "F(x) = 14428656.511914203\n"
     ]
    }
   ],
   "source": [
    "# Best vector untuk pipe di branch 1, branch 2, dan branch 3\n",
    "best_all = np.concatenate((best_b1_b2[0],best_b1_b3[0][3:]))\n",
    "print('Best vector setiap branch:')\n",
    "print('\\t|     Pd     |     Ps     |     L       |      D      |        Q         |')\n",
    "for i in range(11):\n",
    "    print('Pipe {0}: {1}'.format(i+1, best_all[i]),end=\"\")\n",
    "    if round(best_all[i][1]) == 600:ps1 = i\n",
    "    if round(best_all[i][1]) == 300:ps2 = i\n",
    "    print(' ',q(best_all[i][0],best_all[i][1],best_all[i][2],best_all[i][3])/1000000)\n",
    "    if i == 2 or i == 6 or i == 10:\n",
    "        print('---------------------------------')\n",
    "print('Ps = 600 terpenuhi pada pipe ke:',ps1+1)\n",
    "print('Ps = 300 terpenuhi pada pipe ke:',ps2+1)\n",
    "print('---------------------------------')\n",
    "print('F(x) = {0}'.format(f(best_all, n, m)))"
   ]
  },
  {
   "cell_type": "code",
   "execution_count": 96,
   "metadata": {
    "colab": {
     "base_uri": "https://localhost:8080/"
    },
    "id": "7FSSzTCCpeXk",
    "outputId": "336770d0-d118-4ac7-cccf-8cf36fb40dff"
   },
   "outputs": [
    {
     "name": "stdout",
     "output_type": "stream",
     "text": [
      "Compressor Ratio\n",
      "Compressor 1 : 1.6163125622299237\n",
      "Compressor 2 : 1.0665046228508759\n",
      "Compressor 3 : 1.0529770605092432\n",
      "Compressor 4 : 1.0864156881806033\n",
      "Compressor 5 : 1.284120752154626\n",
      "Compressor 6 : 2.2168488297235145\n",
      "Compressor 7 : 1.3201102833906642\n",
      "Compressor 8 : 1.2840445351489427\n",
      "Compressor 9 : 1.0613033329448909\n",
      "Compressor 10 : 1.6526486201589827\n"
     ]
    }
   ],
   "source": [
    "# TODO 1. Hitung K\n",
    "Ps_init = 500.00\n",
    "K = []\n",
    "\n",
    "print('Compressor Ratio')\n",
    "for i in range(len(best_all)-1):\n",
    "\tif i == 0: K.append(best_all[i][0]/Ps_init)\n",
    "\telse:\n",
    "\t\tK.append(best_all[i][0]/best_all[i-1][1])\n",
    "\tprint('Compressor {0} : {1}'.format(i+1,K[i]))"
   ]
  }
 ],
 "metadata": {
  "colab": {
   "gpuType": "T4",
   "provenance": []
  },
  "kernelspec": {
   "display_name": "Python 3",
   "name": "python3"
  },
  "language_info": {
   "codemirror_mode": {
    "name": "ipython",
    "version": 3
   },
   "file_extension": ".py",
   "mimetype": "text/x-python",
   "name": "python",
   "nbconvert_exporter": "python",
   "pygments_lexer": "ipython3",
   "version": "3.10.4"
  },
  "orig_nbformat": 4
 },
 "nbformat": 4,
 "nbformat_minor": 0
}
