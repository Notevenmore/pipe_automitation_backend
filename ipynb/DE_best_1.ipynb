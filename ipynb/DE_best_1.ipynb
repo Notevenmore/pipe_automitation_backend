{
 "cells": [
  {
   "cell_type": "markdown",
   "metadata": {},
   "source": [
    "### Differential Evolution on Gas Transmission Pipe"
   ]
  },
  {
   "cell_type": "markdown",
   "metadata": {},
   "source": [
    "### DE/best/1"
   ]
  },
  {
   "cell_type": "code",
   "execution_count": null,
   "metadata": {
    "id": "vgsaO9zMSmOH"
   },
   "outputs": [],
   "source": [
    "# Import library yang dibutuhkan\n",
    "import numpy as np"
   ]
  },
  {
   "cell_type": "markdown",
   "metadata": {
    "id": "Uw_ttmkNSmOa"
   },
   "source": [
    "### Differential evolution method"
   ]
  },
  {
   "cell_type": "code",
   "execution_count": null,
   "metadata": {
    "id": "LiaYtVpqSmOc"
   },
   "outputs": [],
   "source": [
    "# Fungsi untuk Mutation\n",
    "# Input : target pipe dan F\n",
    "# Output : mutated vector\n",
    "def mutation(x, F):\n",
    "    return np.add(x[0], np.multiply(F, np.subtract(x[1], x[2])))"
   ]
  },
  {
   "cell_type": "code",
   "execution_count": null,
   "metadata": {
    "id": "9zXIj53bSmOe"
   },
   "outputs": [],
   "source": [
    "# Fungsi untuk Crossover\n",
    "# Input : mutated vector, target pipe, dimensi dari pipe = 7, dan CR\n",
    "# Output : trial vector\n",
    "def crossover(mutated, target, dims, cr):\n",
    "    # Generate uniform random value untuk setiap dimension\n",
    "    p = np.random.rand(dims)\n",
    "    # Generate Trial Vector dari binomial crossover\n",
    "    trial = [mutated[i] if p[i] < cr else target[i] for i in range(dims)]\n",
    "    return trial"
   ]
  },
  {
   "cell_type": "markdown",
   "metadata": {
    "id": "VuRVPIwASmOg"
   },
   "source": [
    "### Methods"
   ]
  },
  {
   "cell_type": "code",
   "execution_count": null,
   "metadata": {
    "id": "SV2VoFu_SmOd"
   },
   "outputs": [],
   "source": [
    "# Fungsi untuk mengecek batasan dari pd, ps, L, D pada tiap pipe dari 1 set pipe\n",
    "# Input : mutated pipe dan batasan\n",
    "# Output : mutated pipe yang memenuhi batasan \n",
    "def check_bounds(mutated, bounds):\n",
    "    mutated_bound = []\n",
    "    for i in range(len(mutated)):\n",
    "        temp = []\n",
    "        for j in range(len(bounds)):\n",
    "            temp.append(np.clip(mutated[i][j], bounds[j, 0], bounds[j, -1]))\n",
    "        mutated_bound.append(temp)\n",
    "    return mutated_bound"
   ]
  },
  {
   "cell_type": "code",
   "execution_count": null,
   "metadata": {
    "id": "lVwDYHOkSmOX"
   },
   "outputs": [],
   "source": [
    "# Fungsi untuk cek constraint pertidaksamaan\n",
    "# 1.) Pd/Ps >= 1\n",
    "# 2.) Pd/Ps <= Ki\n",
    "# 3.) Flow rate kuadrat = 0\n",
    "# Input : target pipe\n",
    "# Output : pipe yang memenuhi constraint\n",
    "def check_inequality(pop, K=[]):\n",
    "\t# Cek Pd >= Ps\n",
    "\tfor p in pop:\n",
    "\t\tif p[0] <= p[1]:\n",
    "\t\t\tp[0],p[1] = p[1],p[0]\n",
    "\t# Cek K\n",
    "\t# Cek Q\n",
    "\treturn pop\n",
    "def check_inequality_2(pop):\n",
    "\tps_init = 500 # INPUT TEKANAN (PIPE INITIAL PRESSURE)\n",
    "\tfor i in range(len(pop)):\n",
    "\t\tif i == 0:\n",
    "\t\t\tif (pop[i][0]/ps_init) < 1:\n",
    "\t\t\t\treturn False\n",
    "\t\telse:\n",
    "\t\t\tif (pop[i][0]/pop[i-1][1]) < 1:\n",
    "\t\t\t\treturn False\n",
    "\treturn True"
   ]
  },
  {
   "cell_type": "code",
   "execution_count": null,
   "metadata": {},
   "outputs": [],
   "source": [
    "# Fungsi untuk cek total panjang dari branch 1 dan branch 2\n",
    "def check_length1(pop):\n",
    "    return True if round(sum(pop[:,2])) == 175 else False\n",
    "# Fungsi untuk cek total panjang dari branch 1 dan branch 3\n",
    "def check_length2(pop):\n",
    "    return True if round(sum(pop[:,2])) == 200 else False"
   ]
  },
  {
   "cell_type": "markdown",
   "metadata": {},
   "source": [
    "### Process"
   ]
  },
  {
   "cell_type": "markdown",
   "metadata": {},
   "source": [
    "Bentuk dari populasi awal untuk setiap pipe:</br>\n",
    "pipe1 = [[pd, ps, l, d]1, [pd, ps, l, d]2, [pd, ps, l, d]3, ..., [pd, ps, l, d]1000]</br> \n",
    "pipe2 = [[pd, ps, l, d]1, [pd, ps, l, d]2, [pd, ps, l, d]3, ..., [pd, ps, l, d]1000]</br> \n",
    "pipe3 = [[pd, ps, l, d]1, [pd, ps, l, d]2, [pd, ps, l, d]3, ..., [pd, ps, l, d]1000]</br>\n",
    "...</br>\n",
    "pipe11 = [[pd, ps, l, d]1, [pd, ps, l, d]2, [pd, ps, l, d]3, ..., [pd, ps, l, d]1000]</br>\n",
    "  \n",
    "Setelah diolah DE, output yang diharapkan yaitu vector paling optimal:</br>\n",
    "pipe1 = [pd, ps, l, d]</br> \n",
    "pipe2 = [pd, ps, l, d]</br> \n",
    "pipe3 = [pd, ps, l, d]</br>\n",
    "...</br>\n",
    "pipe11 = [pd, ps, l, d]</br>"
   ]
  },
  {
   "cell_type": "code",
   "execution_count": null,
   "metadata": {
    "id": "_nOIXNVpSmOL"
   },
   "outputs": [],
   "source": [
    "# Definisi parameter untuk Differential Evolution\n",
    "# ------------------------------\n",
    "pop_size = 2000 # size population candidate solution\n",
    "iter = 100  # number iteration\n",
    "\n",
    "F = 0.02     # scale factor [0, 1]\n",
    "CR = 0.8    # crossover rate [0, 2]\n",
    "\n",
    "n = 10  # number compressor\n",
    "m = n+1 # number pipe\n",
    "N1 = 4  # number compressor in branch 1\n",
    "N2 = 3  # number compressor in branch 2\n",
    "N3 = 3  # number compressor in branch 3"
   ]
  },
  {
   "cell_type": "code",
   "execution_count": null,
   "metadata": {
    "id": "eF3wQ9uESmOW"
   },
   "outputs": [],
   "source": [
    "# Definisi batas atas dan batas bawah untuk setiap dimensi pipe\n",
    "# pipe = [pd, ps, l, d]\n",
    "\n",
    "# Bounds for branch 1\n",
    "bounds1 = np.asarray([\n",
    "    (600, 1000),(300, 900),(2, 70),(4, 36)\n",
    "])\n",
    "# Bounds for branch 2\n",
    "bounds2 = np.asarray([\n",
    "    (600, 1000),(300, 900),(2, 30),(4, 18)\n",
    "])\n",
    "# Bounds for branch 3\n",
    "bounds3 = np.asarray([\n",
    "    (600, 1000),(200, 860),(2, 70),(4, 18)\n",
    "])"
   ]
  },
  {
   "cell_type": "code",
   "execution_count": null,
   "metadata": {
    "id": "EB5U_kQCSmON"
   },
   "outputs": [],
   "source": [
    "# Fungsi Q untuk menghitung Flow Rate\n",
    "# Input : pd, ps, L, D\n",
    "# Output : Q\n",
    "def q(pd, ps, l, d):\n",
    "    return (871 * ((d)**(8/3))) * np.sqrt((pd**2 - ps**2) / l)"
   ]
  },
  {
   "cell_type": "code",
   "execution_count": null,
   "metadata": {},
   "outputs": [],
   "source": [
    "# Objective Function F()\n",
    "# x = [pd, ps, l, d]\n",
    "\n",
    "# Fungsi objektif untuk operating cost compressor\n",
    "def f_comp(x, q, co = 8, cc = 70.00, T = 520, k = 1.26, z = 0.9):\n",
    "  return ((co + cc) * q * 0.08531 * T * (k/(k - 1)) * ((x[0]/x[1])**((z*(k - 1))/k) - 1))\n",
    "# Fungsi objektif untuk maintenance cost pipe\n",
    "def f_pipe(x, cs = 870):\n",
    "  return (cs * x[2] * x[3])\n",
    "\n",
    "# Fungsi objektif\n",
    "# Input: 1 set pipe (pipe1, pipe2, ..., pipei), jumlah compressor, jumlah pipe\n",
    "# Output: sum fungsi objektif\n",
    "def f(pop, n, m):\n",
    "    sum = 0\n",
    "    for i in range(n):\n",
    "      qi = q(pop[i][0],pop[i][1],pop[i][2],pop[i][3])/1000000\n",
    "      sum += f_comp(pop[i], qi)\n",
    "      for j in range(m):\n",
    "          sum += f_pipe(pop[j])\n",
    "    return sum"
   ]
  },
  {
   "cell_type": "markdown",
   "metadata": {},
   "source": [
    "#### Branch 1 + Branch 2"
   ]
  },
  {
   "cell_type": "code",
   "execution_count": null,
   "metadata": {},
   "outputs": [],
   "source": [
    "# Fungsi untuk mengolah populasi awal pipa dari branch 1 dan branch 2 yang hanya memenuhi panjang total\n",
    "# Input : populasi awal pipe branch 1 + branch 2, ukuran populasi, N1, dan N2\n",
    "# Output : vector populasi awal yang memenuhi panjang dari branch 1 dan branch 2\n",
    "def get_pipe_length1(pipe_b1_b2, pop_size, N1, N2):\n",
    "    best_pipe = []\n",
    "    for i in range(pop_size): # 1, 2, ..., 1000\n",
    "        temp = []\n",
    "        sum_pipe = 0\n",
    "        for j in range(N1+N2): # 1, 2, 3, 4, 5, 6, 7\n",
    "            sum_pipe += pipe_b1_b2[j][i][2]\n",
    "            temp.append(pipe_b1_b2[j][i])\n",
    "        if(round(sum_pipe) == 175):\n",
    "            best_pipe.append(temp)\n",
    "    return best_pipe"
   ]
  },
  {
   "cell_type": "code",
   "execution_count": null,
   "metadata": {
    "id": "4Xkvieo4lHX4"
   },
   "outputs": [],
   "source": [
    "# Proses inisialisasi populasi awal setiap pipe pada branch 1 dan branch 2\n",
    "# <-----Branch 1-----> <--------Branch 2--------->\n",
    "# pipe1, pipe2, pipe3, pipe4, pipe5, pipe6, pipe7,\n",
    "\n",
    "while True:\n",
    "  # Initialize population pipe branch 1\n",
    "  pipe_b1 = []\n",
    "  for i in range(N1-1):\n",
    "    pipe_b1.append(bounds1[:, 0] + (np.random.rand(pop_size, len(bounds1)) * (bounds1[:, 1] - bounds1[:, 0])))\n",
    "  # Initialize population pipe branch 2\n",
    "  pipe_b2 = []\n",
    "  for i in range(N2+1):\n",
    "    pipe_b2.append(bounds2[:, 0] + (np.random.rand(pop_size, len(bounds2)) * (bounds2[:, 1] - bounds2[:, 0])))\n",
    "  # Concatenate population pipe branch 1 and branch 2 \n",
    "  pipe_b1_b2 = np.concatenate((pipe_b1, pipe_b2))\n",
    "  print(pipe_b1_b2)\n",
    "  # Get all pipes whichs meet constraint length branch 1 and branch 2\n",
    "  best_pipe_b1_b2 = get_pipe_length1(pipe_b1_b2, pop_size, N1, N2)\n",
    "  if(best_pipe_b1_b2 != []):\n",
    "    break"
   ]
  },
  {
   "cell_type": "code",
   "execution_count": null,
   "metadata": {},
   "outputs": [],
   "source": [
    "# Cek berapa populasi awal vector yang memenuhi panjang total\n",
    "len(best_pipe_b1_b2)"
   ]
  },
  {
   "cell_type": "code",
   "execution_count": null,
   "metadata": {},
   "outputs": [],
   "source": [
    "# Fungsi differential evolution untuk pipe branch 1 dan branch 2\n",
    "def diff_evol1(pop_pipe, iter, pop_size, bounds, F, CR):\n",
    "\n",
    "    # Check inequality\n",
    "    pop_pipe = [check_inequality(p) for p in pop_pipe]\n",
    "    pop_pipe = np.array(pop_pipe)\n",
    "    \n",
    "    # Evaluate initial population candidate solution\n",
    "    obj_all = [f(p, N1+N2, N1+N2) for p in pop_pipe]\n",
    "\n",
    "    # Find the best vector of initial population\n",
    "    best_vector = pop_pipe[np.argmin(obj_all)]\n",
    "    best_obj = min(obj_all)\n",
    "    prev_obj = best_obj\n",
    "\n",
    "    for i in range(iter):\n",
    "        # Iterate over all candidate solution\n",
    "        for j in range(pop_size):\n",
    "            # MUTATION\n",
    "            while(True):\n",
    "                # Choose 3 candidate solution : a, b, c.\n",
    "                # Xbest, X1, X2\n",
    "                a = pop_pipe[np.argmin(obj_all)]\n",
    "                candidates = [candidate for candidate in range(pop_size) if candidate != j]\n",
    "                b, c = pop_pipe[np.random.choice(candidates, 2, replace=False)]\n",
    "                # Perform mutation\n",
    "                mutated = mutation([a, b, c], F)\n",
    "                # Check bound mutated vector\n",
    "                mutated_b1 = check_bounds(mutated[:3], bounds[0])\n",
    "                mutated_b2 = check_bounds(mutated[3:], bounds[1])\n",
    "                mutated = np.concatenate((mutated_b1, mutated_b2))\n",
    "                # Check inequality const\n",
    "                mutated = check_inequality(mutated)\n",
    "                    # Check lenght, if true continue, else LOOP UNTIL \n",
    "                if check_length1(mutated):\n",
    "                    break\n",
    "\n",
    "            # CROSSOVER\n",
    "            # Perform crossover\n",
    "            while(True):\n",
    "                trial = np.array(crossover(mutated, pop_pipe[j], N1+N2, CR))\n",
    "                if check_length1(trial):\n",
    "                    break\n",
    "\n",
    "            # Compute objective function value for target vector\n",
    "            obj_target = f(pop_pipe[j], N1+N2, N1+N2)\n",
    "            # Compute objective function value for trial vector\n",
    "            obj_trial = f(trial, N1+N2, N1+N2)\n",
    "\n",
    "            # SELECTION\n",
    "            # Perform selection\n",
    "            if obj_trial < obj_target:\n",
    "               # Replace target vector with trial vector\n",
    "               pop_pipe[j] = trial\n",
    "               # Store the new obj function value\n",
    "               obj_all[j] = obj_trial\n",
    "\n",
    "        # Find best performing vector each iteration\n",
    "        best_obj = min(obj_all)\n",
    "        # Store the lowest obj function value\n",
    "        if best_obj < prev_obj:\n",
    "            best_vector = pop_pipe[np.argmin(obj_all)]\n",
    "            prev_obj = best_obj\n",
    "\n",
    "        # Print progress iteration\n",
    "        # print('Iteration %d : f[%s] = %.5f' % (i, np.around(best_vector, decimals=5), best_obj))\n",
    "        # print('--------------------')\n",
    "        \n",
    "    return [best_vector, best_obj]"
   ]
  },
  {
   "cell_type": "code",
   "execution_count": null,
   "metadata": {},
   "outputs": [],
   "source": [
    "# Proses Differential Evolution hingga memenuhi setiap constraint\n",
    "# Hingga memenuhi Ps demand 1 = 600 psi\n",
    "while(True):\n",
    "    best_b1_b2 = diff_evol1(best_pipe_b1_b2, iter, len(best_pipe_b1_b2), [bounds1, bounds2], F, CR)\n",
    "    print(best_b1_b2)\n",
    "    status = False\n",
    "    if(round(best_b1_b2[0][N1+N2-1][1]) == 600 and check_inequality_2(best_b1_b2[0])):\n",
    "        break"
   ]
  },
  {
   "cell_type": "code",
   "execution_count": null,
   "metadata": {},
   "outputs": [],
   "source": [
    "# Vector terbaik untuk branch 1 dan branch 2\n",
    "best_b1_b2"
   ]
  },
  {
   "cell_type": "markdown",
   "metadata": {},
   "source": [
    "#### Branch 1 + Branch 3"
   ]
  },
  {
   "cell_type": "code",
   "execution_count": null,
   "metadata": {},
   "outputs": [],
   "source": [
    "# Mengambil vector pipe pada branch 1 yang akan digunakan untuk evaluasi\n",
    "demand1_index = 0\n",
    "for i in range(len(best_b1_b2[0])):\n",
    "    if round(best_b1_b2[0][i][1]) == 600:\n",
    "        demand1_index = i\n",
    "best_b1 = []\n",
    "for p in best_b1_b2[0]:\n",
    "    if(round(p[1]) != 600):\n",
    "        best_b1.append(p)\n",
    "    if len(best_b1) == N1-1:\n",
    "        break"
   ]
  },
  {
   "cell_type": "code",
   "execution_count": null,
   "metadata": {},
   "outputs": [],
   "source": [
    "# Fungsi untuk mengolah populasi awal pipa dari branch 1 dan branch 3 yang hanya memenuhi panjang total\n",
    "# Input : populasi awal pipe branch 1 + branch 3, ukuran populasi, N1, dan N3\n",
    "# Output : vector populasi awal yang memenuhi panjang dari branch 1 dan branch 3\n",
    "def get_pipe_length2(pipe_b3, best_b1, pop_size, N1, N3):\n",
    "    best_pipe = []\n",
    "    for i in range(pop_size): # 1, 2, ..., 50\n",
    "        temp = []\n",
    "        sum_pipe = 0\n",
    "        for j in range(N1+N3): # 1, 2, 3, 4, 5, 6, 7\n",
    "            if j < N1-1: # 0, 1, 2\n",
    "                sum_pipe += best_b1[j][2]\n",
    "            if j >= N1-1: # 3, 4, 5, 6 => 0, 1, 2, 3\n",
    "                sum_pipe += pipe_b3[j-N3][i][2]\n",
    "                temp.append(pipe_b3[j-N3][i])\n",
    "        if(round(sum_pipe) == 200):\n",
    "            best_pipe.append(temp)\n",
    "    return best_pipe"
   ]
  },
  {
   "cell_type": "code",
   "execution_count": null,
   "metadata": {},
   "outputs": [],
   "source": [
    "# Proses inisialisasi populasi awal setiap pipe pada branch 3\n",
    "# <-----Branch 1-----> <--------Branch 3----------->\n",
    "# pipe1, pipe2, pipe3, pipe8, pipe9, pipe10, pipe11,\n",
    "def create_pipe_b3():\n",
    "  while True:\n",
    "    # Initialize population pipe branch 3\n",
    "    pipe_b3 = []\n",
    "    for i in range(N3+1):\n",
    "      pipe_b3.append(bounds3[:, 0] + (np.random.rand(pop_size, len(bounds3)) * (bounds3[:, 1] - bounds3[:, 0])))\n",
    "    best_pipe_b3 = get_pipe_length2(pipe_b3, best_b1, pop_size, N1, N3)\n",
    "    if(best_pipe_b3 != [] and len(best_pipe_b3) > 3):\n",
    "      break\n",
    "  return best_pipe_b3"
   ]
  },
  {
   "cell_type": "code",
   "execution_count": null,
   "metadata": {},
   "outputs": [],
   "source": [
    "def diff_evol_2(pop_pipe_b3, best_b1, iter, pop_size, bounds, F, CR):\n",
    "\n",
    "    # Check inequality branch 3\n",
    "    pop_pipe = [check_inequality(p) for p in pop_pipe_b3]\n",
    "    pop_pipe = np.array(pop_pipe)\n",
    "    \n",
    "    # Evaluate initial population candidate solution\n",
    "    temp = [np.concatenate((best_b1, p)) for p in pop_pipe_b3]\n",
    "    obj_all = [f(p, N1+N3, N1+N3) for p in temp]\n",
    "\n",
    "    # Find the best vector of initial population\n",
    "    best_vector = pop_pipe[np.argmin(obj_all)]\n",
    "    best_obj = min(obj_all)\n",
    "    prev_obj = best_obj\n",
    "\n",
    "    for i in range(iter):\n",
    "        # Iterate over all candidate solution\n",
    "        for j in range(pop_size):\n",
    "            # MUTATION\n",
    "            while(True):\n",
    "                # Choose 3 candidate solution : a, b, c.\n",
    "                # Xbest, X1, X2\n",
    "                a = pop_pipe[np.argmin(obj_all)]\n",
    "                candidates = [candidate for candidate in range(pop_size) if candidate != j]\n",
    "                b, c = pop_pipe[np.random.choice(candidates, 2, replace=False)]# Perform mutation\n",
    "                mutated = mutation([a, b, c], F)\n",
    "                # Check bound mutated vector\n",
    "                mutated = check_bounds(mutated, bounds)\n",
    "                # Check inequality const\n",
    "                mutated = check_inequality(mutated)\n",
    "                # Check lenght, if true continue, else LOOP UNTIL \n",
    "                temp = np.concatenate((best_b1, mutated))\n",
    "                if check_length2(temp):\n",
    "                    break\n",
    "            # CROSSOVER\n",
    "            # Perform crossover\n",
    "            while(True):\n",
    "                mutated_temp = np.concatenate((best_b1, mutated))\n",
    "                target_temp = np.concatenate((best_b1, pop_pipe[j]))\n",
    "                trial = np.array(crossover(mutated_temp, target_temp, N1+N3, CR))\n",
    "                if check_length2(trial):\n",
    "                    break\n",
    "\n",
    "            # Compute objective function value for target vector]\n",
    "            obj_target = f(target_temp, N1+N3, N1+N3)\n",
    "            # Compute objective function value for trial vector\n",
    "            obj_trial = f(trial, N1+N3, N1+N3)\n",
    "\n",
    "            # SELECTION\n",
    "            # Perform selection\n",
    "            if obj_trial < obj_target:\n",
    "               # Replace target vector with trial vector\n",
    "               pop_pipe[j] = trial[3:]\n",
    "               # Store the new obj function value\n",
    "               obj_all[j] = obj_trial\n",
    "\n",
    "        # Find best performing vector each iteration\n",
    "        best_obj = min(obj_all)\n",
    "        # Store the lowest obj function value\n",
    "        if best_obj < prev_obj:\n",
    "            best_vector = pop_pipe[np.argmin(obj_all)]\n",
    "            prev_obj = best_obj\n",
    "\n",
    "    #     # Print progress iteration\n",
    "    #     # print('Iteration %d : f[%s] = %.5f' % (i, np.around(best_vector, decimals=5), best_obj))\n",
    "    #     # print('--------------------')\n",
    "    best_vector = np.concatenate((best_b1, best_vector))\n",
    "    return [best_vector, best_obj]"
   ]
  },
  {
   "cell_type": "code",
   "execution_count": null,
   "metadata": {},
   "outputs": [],
   "source": [
    "while(True):\n",
    "    best_pipe_b3 = create_pipe_b3()\n",
    "    best_b1_b3 = diff_evol_2(best_pipe_b3, best_b1, iter, len(best_pipe_b3), bounds3, F, CR)\n",
    "    print(best_b1_b3)\n",
    "    status = False\n",
    "    if(round(best_b1_b3[0][N1+N3-1][1]) == 300):\n",
    "        status = True\n",
    "    if status and (best_b1_b3[0][:3] == best_b1).all() and check_inequality_2(best_b1_b3[0]):\n",
    "        break"
   ]
  },
  {
   "cell_type": "markdown",
   "metadata": {},
   "source": [
    "### Results"
   ]
  },
  {
   "cell_type": "code",
   "execution_count": null,
   "metadata": {},
   "outputs": [],
   "source": [
    "# Best vector untuk pipe di branch 1\n",
    "print('Branch 1')\n",
    "for i in range(len(best_b1)):\n",
    "    print('Pipe {0}: {1}'.format(i+1, best_b1[i]))\n"
   ]
  },
  {
   "cell_type": "code",
   "execution_count": null,
   "metadata": {},
   "outputs": [],
   "source": [
    "# Best vector untuk pipe di branch 1 dan branch 2\n",
    "print('Branch 1 dan Branch 2')\n",
    "for i in range(len(best_b1_b2[0])):\n",
    "    print('Pipe {0}: {1}'.format(i+1, best_b1_b2[0][i]))\n",
    "    if round(best_b1_b2[0][i][1]) == 600:ps1 = i\n",
    "print('--------------------------------')\n",
    "print('F(x) = ',best_b1_b2[1])\n",
    "print('Sum L = ',sum(best_b1_b2[0][:,2]))\n",
    "\n",
    "print('Ps == 600 terpenuhi pada pipe ke',ps1+1)\n"
   ]
  },
  {
   "cell_type": "code",
   "execution_count": null,
   "metadata": {},
   "outputs": [],
   "source": [
    "# Best vector untuk pipe di branch 1 dan branch 3\n",
    "print('Branch 1 dan Branch 3')\n",
    "for i in range(len(best_b1_b3[0])):\n",
    "    j = i+4 if i > 2 else i\n",
    "    if round(best_b1_b3[0][i][1]) == 300:ps2 = j\n",
    "    print('Pipe {0}: {1}'.format(j+1, best_b1_b3[0][i]))\n",
    "print('--------------------------------')\n",
    "print('F(x) = ',best_b1_b3[1])\n",
    "print('Sum L = ',sum(best_b1_b3[0][:,2]))\n",
    "\n",
    "print('Ps == 300 terpenuhi pada pipe ke',ps2+1)"
   ]
  },
  {
   "cell_type": "code",
   "execution_count": null,
   "metadata": {},
   "outputs": [],
   "source": [
    "# Best vector untuk pipe di branch 1, branch 2, dan branch 3\n",
    "best_all = np.concatenate((best_b1_b2[0],best_b1_b3[0][3:]))\n",
    "print('Best vector setiap branch:')\n",
    "print('\\t|     Pd     |     Ps     |     L       |      D      |        Q         |')\n",
    "for i in range(11):\n",
    "    print('Pipe {0}: {1}'.format(i+1, best_all[i]),end=\"\")\n",
    "    if round(best_all[i][1]) == 600:ps1 = i\n",
    "    if round(best_all[i][1]) == 300:ps2 = i\n",
    "    print(' ',q(best_all[i][0],best_all[i][1],best_all[i][2],best_all[i][3])/1000000)\n",
    "    if i == 2 or i == 6 or i == 10: \n",
    "        print('---------------------------------')\n",
    "print('Ps = 600 terpenuhi pada pipe ke:',ps1+1)\n",
    "print('Ps = 300 terpenuhi pada pipe ke:',ps2+1)\n",
    "print('---------------------------------')\n",
    "print('F(x) = {0}'.format(f(best_all, n, m)))"
   ]
  },
  {
   "cell_type": "code",
   "execution_count": null,
   "metadata": {},
   "outputs": [],
   "source": [
    "# TODO 1. Hitung K\n",
    "Ps_init = 500.00 # INPUT TEKANAN (PIPE INITIAL PRESSURE)\n",
    "K = []\n",
    "\n",
    "print('Compressor Ratio')\n",
    "for i in range(len(best_all)-1):\n",
    "\tif i == 0: K.append(best_all[i][0]/Ps_init)\n",
    "\telse:\n",
    "\t\tK.append(best_all[i][0]/best_all[i-1][1])\n",
    "\tprint('Compressor {0} : {1}'.format(i+1,K[i]))"
   ]
  }
 ],
 "metadata": {
  "colab": {
   "gpuType": "T4",
   "provenance": []
  },
  "kernelspec": {
   "display_name": "venv",
   "language": "python",
   "name": "python3"
  },
  "language_info": {
   "codemirror_mode": {
    "name": "ipython",
    "version": 3
   },
   "file_extension": ".py",
   "mimetype": "text/x-python",
   "name": "python",
   "nbconvert_exporter": "python",
   "pygments_lexer": "ipython3",
   "version": "3.12.3"
  },
  "orig_nbformat": 4
 },
 "nbformat": 4,
 "nbformat_minor": 0
}
