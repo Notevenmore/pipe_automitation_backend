{
 "cells": [
  {
   "cell_type": "markdown",
   "metadata": {
    "id": "RxVk8mdmpeXC"
   },
   "source": [
    "### Differential Evolution on Gas Transmission Pipe"
   ]
  },
  {
   "cell_type": "markdown",
   "metadata": {
    "id": "-tjMmlcDpeXG"
   },
   "source": [
    "### DE/current to best/1"
   ]
  },
  {
   "cell_type": "code",
   "execution_count": 1,
   "metadata": {
    "id": "vgsaO9zMSmOH"
   },
   "outputs": [],
   "source": [
    "# Import library yang dibutuhkan\n",
    "import numpy as np"
   ]
  },
  {
   "cell_type": "markdown",
   "metadata": {
    "id": "Uw_ttmkNSmOa"
   },
   "source": [
    "### Differential evolution method"
   ]
  },
  {
   "cell_type": "code",
   "execution_count": null,
   "metadata": {
    "id": "LiaYtVpqSmOc"
   },
   "outputs": [],
   "source": [
    "# Fungsi untuk Mutation\n",
    "# Input : target pipe dan F\n",
    "# Output : mutated vector\n",
    "def mutation(x, F):\n",
    "    return np.add(x[0], np.add(np.multiply(F, np.subtract(x[1], x[2])), np.multiply(F, np.subtract(x[3], x[4]))))"
   ]
  },
  {
   "cell_type": "code",
   "execution_count": 3,
   "metadata": {
    "id": "9zXIj53bSmOe"
   },
   "outputs": [],
   "source": [
    "# Fungsi untuk Crossover\n",
    "# Input : mutated vector, target pipe, dimensi dari pipe = 7, dan CR\n",
    "# Output : trial vector\n",
    "def crossover(mutated, target, dims, cr):\n",
    "    # Generate uniform random value untuk setiap dimension\n",
    "    p = np.random.rand(dims)\n",
    "    # Generate Trial Vector dari binomial crossover\n",
    "    trial = [mutated[i] if p[i] < cr else target[i] for i in range(dims)]\n",
    "    return trial"
   ]
  },
  {
   "cell_type": "markdown",
   "metadata": {
    "id": "VuRVPIwASmOg"
   },
   "source": [
    "### Methods"
   ]
  },
  {
   "cell_type": "code",
   "execution_count": 4,
   "metadata": {
    "id": "SV2VoFu_SmOd"
   },
   "outputs": [],
   "source": [
    "# Fungsi untuk mengecek batasan dari pd, ps, L, D pada tiap pipe dari 1 set pipe\n",
    "# Input : mutated pipe dan batasan\n",
    "# Output : mutated pipe yang memenuhi batasan\n",
    "def check_bounds(mutated, bounds):\n",
    "    mutated_bound = []\n",
    "    for i in range(len(mutated)):\n",
    "        temp = []\n",
    "        for j in range(len(bounds)):\n",
    "            temp.append(np.clip(mutated[i][j], bounds[j, 0], bounds[j, -1]))\n",
    "        mutated_bound.append(temp)\n",
    "    return mutated_bound"
   ]
  },
  {
   "cell_type": "code",
   "execution_count": 5,
   "metadata": {
    "id": "lVwDYHOkSmOX"
   },
   "outputs": [],
   "source": [
    "# Fungsi untuk cek constraint pertidaksamaan\n",
    "# 1.) Pd/Ps >= 1\n",
    "# 2.) Pd/Ps <= Ki\n",
    "# 3.) Flow rate kuadrat = 0\n",
    "# Input : target pipe\n",
    "# Output : pipe yang memenuhi constraint\n",
    "def check_inequality(pop, K=[]):\n",
    "\t# Cek Pd >= Ps\n",
    "\tfor p in pop:\n",
    "\t\tif p[0] <= p[1]:\n",
    "\t\t\tp[0],p[1] = p[1],p[0]\n",
    "\t# Cek K\n",
    "\t# Cek Q\n",
    "\treturn pop\n",
    "def check_inequality_2(pop):\n",
    "\tps_init = 500\n",
    "\tfor i in range(len(pop)):\n",
    "\t\tif i == 0:\n",
    "\t\t\tif (pop[i][0]/ps_init) < 1:\n",
    "\t\t\t\treturn False\n",
    "\t\telse:\n",
    "\t\t\tif (pop[i][0]/pop[i-1][1]) < 1:\n",
    "\t\t\t\treturn False\n",
    "\treturn True"
   ]
  },
  {
   "cell_type": "code",
   "execution_count": 6,
   "metadata": {
    "id": "S8r8SqeJpeXY"
   },
   "outputs": [],
   "source": [
    "# Fungsi untuk cek total panjang dari branch 1 dan branch 2\n",
    "def check_length1(pop):\n",
    "    return True if round(sum(pop[:,2])) == 175 else False\n",
    "# Fungsi untuk cek total panjang dari branch 1 dan branch 3\n",
    "def check_length2(pop):\n",
    "    return True if round(sum(pop[:,2])) == 200 else False"
   ]
  },
  {
   "cell_type": "markdown",
   "metadata": {
    "id": "2jKESpaupeXZ"
   },
   "source": [
    "### Process"
   ]
  },
  {
   "cell_type": "markdown",
   "metadata": {
    "id": "Z0-MrpC4peXZ"
   },
   "source": [
    "Bentuk dari populasi awal untuk setiap pipe:</br>\n",
    "pipe1 = [[pd, ps, l, d]1, [pd, ps, l, d]2, [pd, ps, l, d]3, ..., [pd, ps, l, d]1000]</br>\n",
    "pipe2 = [[pd, ps, l, d]1, [pd, ps, l, d]2, [pd, ps, l, d]3, ..., [pd, ps, l, d]1000]</br>\n",
    "pipe3 = [[pd, ps, l, d]1, [pd, ps, l, d]2, [pd, ps, l, d]3, ..., [pd, ps, l, d]1000]</br>\n",
    "...</br>\n",
    "pipe11 = [[pd, ps, l, d]1, [pd, ps, l, d]2, [pd, ps, l, d]3, ..., [pd, ps, l, d]1000]</br>\n",
    "  \n",
    "Setelah diolah DE, output yang diharapkan yaitu vector paling optimal:</br>\n",
    "pipe1 = [pd, ps, l, d]</br>\n",
    "pipe2 = [pd, ps, l, d]</br>\n",
    "pipe3 = [pd, ps, l, d]</br>\n",
    "...</br>\n",
    "pipe11 = [pd, ps, l, d]</br>"
   ]
  },
  {
   "cell_type": "code",
   "execution_count": 7,
   "metadata": {
    "id": "_nOIXNVpSmOL"
   },
   "outputs": [],
   "source": [
    "# Definisi parameter untuk Differential Evolution\n",
    "# ------------------------------\n",
    "pop_size = 2000 # size population candidate solution\n",
    "iter = 100  # number iteration\n",
    "\n",
    "F = 0.02     # scale factor [0, 1]\n",
    "CR = 0.8    # crossover rate [0, 2]\n",
    "\n",
    "n = 10  # number compressor\n",
    "m = n+1 # number pipe\n",
    "N1 = 4  # number compressor in branch 1\n",
    "N2 = 3  # number compressor in branch 2\n",
    "N3 = 3  # number compressor in branch 3"
   ]
  },
  {
   "cell_type": "code",
   "execution_count": 8,
   "metadata": {
    "id": "eF3wQ9uESmOW"
   },
   "outputs": [],
   "source": [
    "# Definisi batas atas dan batas bawah untuk setiap dimensi pipe\n",
    "# pipe = [pd, ps, l, d]\n",
    "\n",
    "# Bounds for branch 1\n",
    "bounds1 = np.asarray([\n",
    "    (590, 1000),(300, 900),(2, 70),(4, 36)\n",
    "])\n",
    "# Bounds for branch 2\n",
    "bounds2 = np.asarray([\n",
    "    (590, 1000),(300, 900),(2, 30),(4, 18)\n",
    "])\n",
    "# Bounds for branch 3\n",
    "bounds3 = np.asarray([\n",
    "    (590, 1000),(200, 860),(2, 70),(4, 18)\n",
    "])"
   ]
  },
  {
   "cell_type": "code",
   "execution_count": 9,
   "metadata": {
    "id": "EB5U_kQCSmON"
   },
   "outputs": [],
   "source": [
    "# Fungsi Q untuk menghitung Flow Rate\n",
    "# Input : pd, ps, L, D\n",
    "# Output : Q\n",
    "def q(pd, ps, l, d):\n",
    "    return (871 * ((d)**(8/3))) * np.sqrt((pd**2 - ps**2) / l)"
   ]
  },
  {
   "cell_type": "code",
   "execution_count": 10,
   "metadata": {
    "id": "8fd6Q4AIpeXb"
   },
   "outputs": [],
   "source": [
    "# Objective Function F()\n",
    "# x = [pd, ps, l, d]\n",
    "\n",
    "# Fungsi objektif untuk operating cost compressor\n",
    "def f_comp(x, q, co = 8, cc = 70.00, T = 520, k = 1.26, z = 0.9):\n",
    "  return ((co + cc) * q * 0.08531 * T * (k/(k - 1)) * ((x[0]/x[1])**((z*(k - 1))/k) - 1))\n",
    "# Fungsi objektif untuk maintenance cost pipe\n",
    "def f_pipe(x, cs = 870):\n",
    "  return (cs * x[2] * x[3])\n",
    "\n",
    "# Fungsi objektif\n",
    "# Input: 1 set pipe (pipe1, pipe2, ..., pipei), jumlah compressor, jumlah pipe\n",
    "# Output: sum fungsi objektif\n",
    "def f(pop, n, m):\n",
    "    sum = 0\n",
    "    for i in range(n):\n",
    "      qi = q(pop[i][0],pop[i][1],pop[i][2],pop[i][3])/1000000\n",
    "      sum += f_comp(pop[i], qi)\n",
    "      for j in range(m):\n",
    "          sum += f_pipe(pop[j])\n",
    "    return sum"
   ]
  },
  {
   "cell_type": "markdown",
   "metadata": {
    "id": "V63PmX2vpeXb"
   },
   "source": [
    "#### Branch 1 + Branch 2"
   ]
  },
  {
   "cell_type": "code",
   "execution_count": 11,
   "metadata": {
    "id": "JnbL5DRipeXb"
   },
   "outputs": [],
   "source": [
    "# Fungsi untuk mengolah populasi awal pipa dari branch 1 dan branch 2 yang hanya memenuhi panjang total\n",
    "# Input : populasi awal pipe branch 1 + branch 2, ukuran populasi, N1, dan N2\n",
    "# Output : vector populasi awal yang memenuhi panjang dari branch 1 dan branch 2\n",
    "def get_pipe_length1(pipe_b1_b2, pop_size, N1, N2):\n",
    "    best_pipe = []\n",
    "    for i in range(pop_size): # 1, 2, ..., 1000\n",
    "        temp = []\n",
    "        sum_pipe = 0\n",
    "        for j in range(N1+N2): # 1, 2, 3, 4, 5, 6, 7\n",
    "            sum_pipe += pipe_b1_b2[j][i][2]\n",
    "            temp.append(pipe_b1_b2[j][i])\n",
    "        if(round(sum_pipe) == 175):\n",
    "            best_pipe.append(temp)\n",
    "    return best_pipe"
   ]
  },
  {
   "cell_type": "code",
   "execution_count": 12,
   "metadata": {
    "id": "4Xkvieo4lHX4"
   },
   "outputs": [],
   "source": [
    "# Proses inisialisasi populasi awal setiap pipe pada branch 1 dan branch 2\n",
    "# <-----Branch 1-----> <--------Branch 2--------->\n",
    "# pipe1, pipe2, pipe3, pipe4, pipe5, pipe6, pipe7,\n",
    "\n",
    "while True:\n",
    "  # Initialize population pipe branch 1\n",
    "  pipe_b1 = []\n",
    "  for i in range(N1-1):\n",
    "    pipe_b1.append(bounds1[:, 0] + (np.random.rand(pop_size, len(bounds1)) * (bounds1[:, 1] - bounds1[:, 0])))\n",
    "  # Initialize population pipe branch 2\n",
    "  pipe_b2 = []\n",
    "  for i in range(N2+1):\n",
    "    pipe_b2.append(bounds2[:, 0] + (np.random.rand(pop_size, len(bounds2)) * (bounds2[:, 1] - bounds2[:, 0])))\n",
    "  # Concatenate population pipe branch 1 and branch 2\n",
    "  pipe_b1_b2 = np.concatenate((pipe_b1, pipe_b2))\n",
    "  # Get all pipes whichs meet constraint length branch 1 and branch 2\n",
    "  best_pipe_b1_b2 = get_pipe_length1(pipe_b1_b2, pop_size, N1, N2)\n",
    "  if(best_pipe_b1_b2 != []):\n",
    "    break"
   ]
  },
  {
   "cell_type": "code",
   "execution_count": 13,
   "metadata": {
    "colab": {
     "base_uri": "https://localhost:8080/"
    },
    "id": "xtoxa-QIpeXd",
    "outputId": "67516591-3f3c-4ba0-90c8-452172b738fc"
   },
   "outputs": [
    {
     "data": {
      "text/plain": [
       "18"
      ]
     },
     "execution_count": 13,
     "metadata": {},
     "output_type": "execute_result"
    }
   ],
   "source": [
    "# Cek berapa populasi awal vector yang memenuhi panjang total\n",
    "len(best_pipe_b1_b2)"
   ]
  },
  {
   "cell_type": "code",
   "execution_count": 14,
   "metadata": {
    "id": "CxpeFk8QpeXe"
   },
   "outputs": [],
   "source": [
    "# Fungsi differential evolution untuk pipe branch 1 dan branch 2\n",
    "def diff_evol1(pop_pipe, iter, pop_size, bounds, F, CR):\n",
    "\n",
    "    # Check inequality\n",
    "    pop_pipe = [check_inequality(p) for p in pop_pipe]\n",
    "    pop_pipe = np.array(pop_pipe)\n",
    "\n",
    "    # Evaluate initial population candidate solution\n",
    "    obj_all = [f(p, N1+N2, N1+N2) for p in pop_pipe]\n",
    "\n",
    "    # Find the best vector of initial population\n",
    "    best_vector = pop_pipe[np.argmin(obj_all)]\n",
    "    best_obj = min(obj_all)\n",
    "    prev_obj = best_obj\n",
    "\n",
    "    for i in range(iter):\n",
    "        # Iterate over all candidate solution\n",
    "        for j in range(pop_size):\n",
    "            # MUTATION\n",
    "            while(True):\n",
    "                # Choose 3 candidate solution : a, b, c, d, e.\n",
    "                a = pop_pipe[j] # current\n",
    "                b = pop_pipe[np.argmin(obj_all)] # best\n",
    "                c = pop_pipe[j] # current\n",
    "                # Choose 5 candidate solution : a, b, c, d, e\n",
    "                candidates = [candidate for candidate in range(pop_size) if candidate != j]\n",
    "                d, e = pop_pipe[np.random.choice(candidates, 2, replace=False)]\n",
    "                # Perform mutation\n",
    "                mutated = mutation([a, b, c, d, e], F)\n",
    "                # Check bound mutated vector\n",
    "                mutated_b1 = check_bounds(mutated[:3], bounds[0])\n",
    "                mutated_b2 = check_bounds(mutated[3:], bounds[1])\n",
    "                mutated = np.concatenate((mutated_b1, mutated_b2))\n",
    "                # Check inequality const\n",
    "                mutated = check_inequality(mutated)\n",
    "                    # Check lenght, if true continue, else LOOP UNTIL\n",
    "                if check_length1(mutated):\n",
    "                    break\n",
    "\n",
    "            # CROSSOVER\n",
    "            # Perform crossover\n",
    "            while(True):\n",
    "                trial = np.array(crossover(mutated, pop_pipe[j], N1+N2, CR))\n",
    "                if check_length1(trial):\n",
    "                    break\n",
    "\n",
    "            # Compute objective function value for target vector\n",
    "            obj_target = f(pop_pipe[j], N1+N2, N1+N2)\n",
    "            # Compute objective function value for trial vector\n",
    "            obj_trial = f(trial, N1+N2, N1+N2)\n",
    "\n",
    "            # SELECTION\n",
    "            # Perform selection\n",
    "            if obj_trial < obj_target:\n",
    "               # Replace target vector with trial vector\n",
    "               pop_pipe[j] = trial\n",
    "               # Store the new obj function value\n",
    "               obj_all[j] = obj_trial\n",
    "\n",
    "        # Find best performing vector each iteration\n",
    "        best_obj = min(obj_all)\n",
    "        # Store the lowest obj function value\n",
    "        if best_obj < prev_obj:\n",
    "            best_vector = pop_pipe[np.argmin(obj_all)]\n",
    "            prev_obj = best_obj\n",
    "\n",
    "        # Print progress iteration\n",
    "        # print('Iteration %d : f[%s] = %.5f' % (i, np.around(best_vector, decimals=5), best_obj))\n",
    "        # print('--------------------')\n",
    "\n",
    "    return [best_vector, best_obj]"
   ]
  },
  {
   "cell_type": "code",
   "execution_count": 15,
   "metadata": {
    "id": "pq3yl_irpeXf"
   },
   "outputs": [
    {
     "name": "stdout",
     "output_type": "stream",
     "text": [
      "[array([[593.56324182, 426.19708678,  18.09884584,   6.58107426],\n",
      "       [784.56124641, 669.15851756,  32.6124657 ,   6.67332948],\n",
      "       [709.19771401, 361.09606293,  59.1813526 ,   4.        ],\n",
      "       [898.49118081, 465.26222321,  10.18266695,   6.85474661],\n",
      "       [735.97283605, 587.46972248,  13.77341136,   7.07036986],\n",
      "       [932.38359437, 690.38216767,  28.91347618,  15.91913035],\n",
      "       [801.22636551, 564.11346831,  12.01799864,   4.45570436]]), np.float64(7921282.4253472155)]\n",
      "[array([[590.01641453, 447.61785437,  15.52470777,   7.937087  ],\n",
      "       [781.49629609, 691.12976613,  29.59228116,   9.5688057 ],\n",
      "       [706.4606435 , 375.69440426,  62.52497344,   4.        ],\n",
      "       [883.45819948, 485.19927665,  10.66028705,   6.61743703],\n",
      "       [734.70901178, 591.81397078,  13.6491417 ,   7.56036536],\n",
      "       [928.9686183 , 698.86507908,  29.77312429,  16.11764342],\n",
      "       [804.98857799, 562.76682109,  12.89363731,   4.47482673]]), np.float64(8595196.425966324)]\n",
      "[array([[590.        , 429.16722032,  18.17587721,   5.25908814],\n",
      "       [769.75509626, 674.93203669,  28.30992082,   8.33349186],\n",
      "       [725.05477528, 358.15892819,  62.84354398,   4.        ],\n",
      "       [862.54569235, 455.3293065 ,   9.07434426,   6.64721108],\n",
      "       [734.78502638, 593.82635735,  13.85744696,   8.35399891],\n",
      "       [924.08617239, 707.00392368,  29.99260923,  16.47105681],\n",
      "       [820.56081805, 577.27287085,  12.82807671,   5.28000933]]), np.float64(8309153.0378129305)]\n",
      "[array([[592.04252666, 411.733311  ,  16.51264679,   7.16557283],\n",
      "       [781.2284395 , 658.58897008,  34.17990065,   6.83944127],\n",
      "       [700.17156477, 365.01215734,  58.30590878,   4.        ],\n",
      "       [901.36327914, 473.92221292,  10.75570749,   6.13165588],\n",
      "       [742.51882166, 615.40910309,  14.01982671,   7.28904416],\n",
      "       [951.08417337, 709.79364465,  28.86984718,  16.11713626],\n",
      "       [803.6121005 , 575.40524487,  12.45826874,   4.37636039]]), np.float64(8019187.317306809)]\n",
      "[array([[615.54734414, 459.67472717,  14.64969978,   8.00083637],\n",
      "       [786.58164382, 663.08637696,  35.76244011,   7.42511778],\n",
      "       [704.06425345, 371.64464114,  58.74433876,   4.        ],\n",
      "       [889.84280244, 470.37638754,  11.26015217,   6.7729489 ],\n",
      "       [726.04196333, 593.83474471,  16.78971048,   7.3367603 ],\n",
      "       [955.19965954, 704.42729647,  27.421685  ,  16.94096083],\n",
      "       [800.63439129, 555.97579676,  10.17183821,   4.49478497]]), np.float64(8406940.425345764)]\n",
      "[array([[605.15746745, 452.18385401,  20.41608461,   5.5018033 ],\n",
      "       [775.07526338, 662.68056774,  31.84263996,   7.09638584],\n",
      "       [717.26363121, 376.60434984,  55.84907492,   4.        ],\n",
      "       [882.47918984, 448.02747845,  10.57129847,   7.15419511],\n",
      "       [726.38966444, 628.50136997,  16.50777581,   7.52429796],\n",
      "       [931.16603179, 694.43122267,  28.10261905,  16.20148383],\n",
      "       [803.91236442, 564.52569687,  11.44432145,   4.69166099]]), np.float64(8022139.800506662)]\n",
      "[array([[594.98834883, 452.33806896,  14.80819029,   8.09929735],\n",
      "       [786.15954538, 705.09121731,  36.11819577,   6.45052182],\n",
      "       [709.56147415, 389.88287415,  58.07921832,   4.        ],\n",
      "       [882.59761858, 474.76793247,  11.15987894,   7.10560879],\n",
      "       [735.54825423, 591.69953111,  14.21747282,   7.73817518],\n",
      "       [923.81288574, 697.95350592,  28.75601581,  15.78082974],\n",
      "       [800.47705011, 552.81252759,  11.41679709,   4.75103946]]), np.float64(8078915.510992358)]\n",
      "[array([[595.85419185, 425.06743648,  16.53056926,   6.60353762],\n",
      "       [783.6481196 , 678.87964899,  36.34790891,   5.84840555],\n",
      "       [721.96290997, 387.36496753,  55.03665524,   4.        ],\n",
      "       [865.44250054, 429.64624095,  11.35152794,   7.52660741],\n",
      "       [727.2539428 , 598.07133328,  15.26952137,   7.00309116],\n",
      "       [923.84475287, 685.59711711,  28.53140592,  15.84215341],\n",
      "       [802.84218913, 582.4289105 ,  11.94547133,   4.8660075 ]]), np.float64(7873051.457677783)]\n",
      "[array([[590.        , 426.54675514,  14.30555945,   7.76225254],\n",
      "       [775.71105871, 689.10050525,  34.11430025,   7.79790137],\n",
      "       [717.22582601, 385.49501892,  60.0984266 ,   4.        ],\n",
      "       [886.9666804 , 462.39380091,  11.10399711,   6.83756509],\n",
      "       [754.391407  , 617.50461156,  14.8974278 ,   7.41667118],\n",
      "       [939.85361782, 714.93133942,  29.13882965,  15.51346825],\n",
      "       [807.11877616, 562.78756977,  11.74258831,   4.55307032]]), np.float64(8230907.989708426)]\n",
      "[array([[598.58668502, 432.1195874 ,  16.26682983,   7.13535137],\n",
      "       [802.82366282, 700.88073257,  33.42774659,   7.27381159],\n",
      "       [709.84791883, 383.38348875,  60.69868323,   4.        ],\n",
      "       [887.12909337, 460.1717441 ,  11.31684055,   7.2461358 ],\n",
      "       [761.67519568, 589.23805527,  12.51724884,   7.91441101],\n",
      "       [929.36865622, 705.14914533,  28.99295552,  16.71079945],\n",
      "       [813.71578029, 570.83530247,  11.34435623,   4.97788159]]), np.float64(8369789.696871075)]\n",
      "[array([[599.24155645, 443.57107005,  15.60456113,   7.69635874],\n",
      "       [782.07503632, 660.92550799,  33.56386976,   7.30359419],\n",
      "       [704.52488952, 379.11876863,  58.01266765,   4.        ],\n",
      "       [880.87730369, 450.98027451,  11.09591945,   7.45135317],\n",
      "       [726.19092503, 600.39535971,  14.68883919,   7.2896713 ],\n",
      "       [930.27950799, 688.59173308,  29.00335761,  16.53763676],\n",
      "       [802.69135887, 568.27012377,  13.19322345,   4.96134923]]), np.float64(8432926.118428707)]\n",
      "[array([[594.32692646, 429.9710362 ,  15.32490384,   7.68395863],\n",
      "       [779.02123694, 675.57053043,  35.37579457,   5.93841296],\n",
      "       [705.67667523, 374.84118888,  58.17393899,   4.02744682],\n",
      "       [895.32665706, 472.96379967,  10.32771418,   7.05320668],\n",
      "       [739.07080959, 594.01869746,  13.78039914,   7.26829683],\n",
      "       [936.6993659 , 698.03341633,  29.66628107,  15.61025139],\n",
      "       [804.53858481, 564.86021381,  12.28888387,   4.55112124]]), np.float64(7914491.057312254)]\n",
      "[array([[599.51649774, 434.37761358,  15.403145  ,   7.45919598],\n",
      "       [789.20807403, 649.97671784,  34.89814548,   8.08089593],\n",
      "       [701.51516652, 380.17868253,  56.88033439,   4.        ],\n",
      "       [876.29400876, 465.86814928,  12.09604678,   6.35003041],\n",
      "       [727.48981367, 589.81331319,  13.72904966,   7.31457531],\n",
      "       [925.44302374, 701.02231175,  29.64949297,  16.09362653],\n",
      "       [794.35071929, 567.112489  ,  12.45856852,   4.56953061]]), np.float64(8388381.884661419)]\n",
      "[array([[594.40253292, 418.5841472 ,  18.88613446,   7.56169197],\n",
      "       [789.83015839, 653.9838943 ,  33.45908281,   7.75330105],\n",
      "       [691.98752917, 348.47196269,  58.25861017,   4.        ],\n",
      "       [873.24152922, 472.41147958,  10.62949365,   6.42614561],\n",
      "       [739.37470788, 589.69419138,  14.14467038,   7.54949925],\n",
      "       [944.39694321, 705.16939618,  29.01943404,  16.21621356],\n",
      "       [810.31800432, 588.14726078,  10.10429755,   5.1904396 ]]), np.float64(8402712.14931723)]\n",
      "[array([[599.33357802, 438.70967474,  18.09723101,   6.36284905],\n",
      "       [781.38399321, 689.65353915,  32.77624784,   6.93252977],\n",
      "       [711.49836944, 393.30959212,  57.80538393,   4.01044122],\n",
      "       [895.11619289, 424.26346238,  10.37077568,   8.1257371 ],\n",
      "       [732.55403605, 564.57536378,  12.96197919,   7.44206618],\n",
      "       [920.8361671 , 699.48207317,  29.51204486,  16.23215834],\n",
      "       [797.88286654, 540.50965325,  13.73904745,   4.24950808]]), np.float64(8203710.648554344)]\n",
      "[array([[595.89720676, 417.05108883,  14.96700098,   8.4240525 ],\n",
      "       [792.12573326, 662.45675427,  32.39201093,   8.36784683],\n",
      "       [712.4317604 , 355.47638556,  61.07688362,   4.44718203],\n",
      "       [874.85107219, 454.45101431,  11.21833878,   6.30036807],\n",
      "       [744.32914335, 627.66948506,  13.82249677,   7.05638584],\n",
      "       [923.49885443, 662.24301321,  28.74645602,  16.18959165],\n",
      "       [813.96947679, 578.71297543,  12.34769688,   4.27775566]]), np.float64(8565995.177245626)]\n",
      "[array([[596.3214437 , 422.63399641,  15.01337752,   7.48756714],\n",
      "       [770.56204865, 694.45823775,  36.54652203,   6.75236356],\n",
      "       [713.49290965, 369.87365872,  57.95990353,   4.        ],\n",
      "       [885.20660024, 485.68690509,  10.16187047,   7.34639856],\n",
      "       [716.90537043, 599.81196675,  15.21317496,   7.31639801],\n",
      "       [939.21686512, 732.95005588,  27.82986284,  14.89814189],\n",
      "       [801.05306911, 584.26261482,  12.30256077,   5.48117288]]), np.float64(7906048.230934086)]\n",
      "[array([[591.26168073, 434.17090743,  17.3569601 ,   6.38088703],\n",
      "       [772.22855077, 655.80923744,  33.07397445,   7.8469885 ],\n",
      "       [700.01907314, 343.14605103,  59.12553323,   4.        ],\n",
      "       [896.85309531, 477.88021849,  10.56019036,   6.90527428],\n",
      "       [703.47275371, 614.5822837 ,  16.01793385,   7.07495485],\n",
      "       [939.29132664, 717.21484615,  27.9713027 ,  16.04806538],\n",
      "       [816.19591266, 575.92037533,  10.95390922,   4.23415764]]), np.float64(8099752.675580301)]\n",
      "[array([[590.12467662, 439.58125739,  16.74475519,   7.96723631],\n",
      "       [774.02398647, 672.84887583,  30.5861796 ,   9.38821491],\n",
      "       [711.05436557, 371.40874011,  59.13688492,   4.        ],\n",
      "       [882.43831107, 459.29960338,  10.78743302,   7.43353395],\n",
      "       [724.10104617, 606.46321232,  15.47664583,   7.64183   ],\n",
      "       [940.72150731, 716.57483201,  29.2301813 ,  15.53047717],\n",
      "       [790.21629773, 546.49787304,  12.89576526,   4.28718372]]), np.float64(8586300.593150679)]\n",
      "[array([[596.4580006 , 433.05137002,  14.03418301,   6.69850869],\n",
      "       [795.12565614, 684.66031708,  33.82520103,   6.14593259],\n",
      "       [719.94222567, 367.05435421,  62.5201058 ,   4.37311789],\n",
      "       [878.40099732, 455.08582876,  10.27731723,   6.76307367],\n",
      "       [748.91264236, 622.86666357,  14.17792211,   7.79914895],\n",
      "       [928.51785009, 688.5133772 ,  28.67362378,  17.06850749],\n",
      "       [810.69396266, 560.0431235 ,  11.96277709,   4.45052486]]), np.float64(8215130.693282218)]\n",
      "[array([[596.2082437 , 413.09723802,  16.32105884,   6.30314937],\n",
      "       [795.5864019 , 637.41393144,  37.39972409,   6.30672193],\n",
      "       [695.56500123, 379.18735173,  54.56230148,   4.00016846],\n",
      "       [863.34512586, 455.48385632,  12.26492271,   7.12601041],\n",
      "       [732.71937435, 604.28194027,  13.20778392,   7.56781234],\n",
      "       [909.42673076, 703.82562508,  29.42123551,  16.54363027],\n",
      "       [818.15626371, 580.21043383,  11.72938488,   4.20888763]]), np.float64(8052615.465313252)]\n",
      "[array([[594.19358648, 428.88371476,  19.92985731,   6.55072109],\n",
      "       [773.69383916, 665.39063174,  33.10573401,   6.49252216],\n",
      "       [705.73103075, 360.08137053,  57.36055986,   4.        ],\n",
      "       [880.7335039 , 472.37565228,  10.07477761,   7.66046176],\n",
      "       [741.7596535 , 614.71491707,  14.47806152,   7.74821141],\n",
      "       [933.37176031, 715.25058946,  29.01868162,  15.55334054],\n",
      "       [813.19647965, 568.35330366,  11.16883877,   4.45633795]]), np.float64(7971935.276928637)]\n",
      "[array([[595.28899587, 425.9021802 ,  16.31432902,   7.4296527 ],\n",
      "       [784.59402907, 668.15779496,  36.23407889,   5.96021685],\n",
      "       [699.43048635, 380.93946352,  55.97472454,   4.        ],\n",
      "       [906.18146403, 478.69141147,  11.71429052,   7.11363251],\n",
      "       [729.54487647, 613.1960246 ,  14.08546287,   6.97919548],\n",
      "       [936.85503724, 685.79074841,  29.04868225,  16.04076419],\n",
      "       [794.94977665, 549.18763059,  11.77352863,   4.01681771]]), np.float64(7940370.8508001985)]\n",
      "[array([[590.3820906 , 452.67978685,  18.75507097,   6.63865006],\n",
      "       [775.52009439, 677.94059826,  31.64374573,   8.51035067],\n",
      "       [707.95682374, 375.32980367,  56.54630514,   4.        ],\n",
      "       [892.80801471, 476.4975821 ,  10.58813029,   8.02875123],\n",
      "       [714.19220308, 591.85888551,  15.74645561,   7.80133027],\n",
      "       [917.06570189, 703.78943486,  29.3246159 ,  15.45938139],\n",
      "       [801.75168996, 549.55721547,  12.03458246,   4.35602971]]), np.float64(8393467.829982588)]\n",
      "[array([[591.64974029, 443.15151049,  12.30789001,   8.12093519],\n",
      "       [787.00218749, 692.26548919,  33.59450216,   7.30940622],\n",
      "       [695.96437212, 356.4420204 ,  61.25658649,   4.01598895],\n",
      "       [894.81406028, 468.77981477,  11.2647047 ,   7.79262206],\n",
      "       [722.00772314, 596.42720385,  14.38912943,   7.20124409],\n",
      "       [938.56775166, 708.13393098,  29.41790884,  16.13789042],\n",
      "       [802.26166084, 556.77554712,  12.43484419,   4.18230823]]), np.float64(8278156.795694742)]\n",
      "[array([[601.51091787, 420.86071421,  16.38282144,   6.76688636],\n",
      "       [779.80925105, 689.07762299,  33.93429836,   6.82471347],\n",
      "       [722.02447319, 384.48256739,  58.15679914,   4.        ],\n",
      "       [889.51812656, 463.56463999,  10.75446623,   7.15564539],\n",
      "       [748.22042501, 617.21726704,  14.2750219 ,   7.26091517],\n",
      "       [919.42994547, 685.91113086,  29.29565732,  15.51570354],\n",
      "       [811.7486388 , 561.4321496 ,  12.11044847,   4.16304567]]), np.float64(7944832.773320514)]\n",
      "[array([[595.72017739, 428.77159608,  17.2938745 ,   6.00658485],\n",
      "       [786.8085487 , 706.43911678,  32.96406659,   6.50831657],\n",
      "       [735.5174675 , 366.90072713,  58.31049587,   4.32571185],\n",
      "       [859.27893538, 453.13599929,  10.80427704,   7.23196894],\n",
      "       [732.51348532, 606.57153433,  14.98644702,   7.59315238],\n",
      "       [917.85790099, 699.85933993,  29.15956044,  15.741617  ],\n",
      "       [833.5554837 , 600.23625531,  11.73243811,   5.33057726]]), np.float64(8077250.287144778)]\n"
     ]
    }
   ],
   "source": [
    "# Proses Differential Evolution hingga memenuhi setiap constraint\n",
    "# Hingga memenuhi Ps demand 1 = 600 psi\n",
    "while(True):\n",
    "    best_b1_b2 = diff_evol1(best_pipe_b1_b2, iter, len(best_pipe_b1_b2), [bounds1, bounds2], F, CR)\n",
    "    status = False\n",
    "    print(best_b1_b2)\n",
    "    if(round(best_b1_b2[0][N1+N2-1][1]) == 600 and check_inequality_2(best_b1_b2[0])):\n",
    "        break"
   ]
  },
  {
   "cell_type": "code",
   "execution_count": 16,
   "metadata": {
    "colab": {
     "base_uri": "https://localhost:8080/"
    },
    "id": "JxGPwSuipeXf",
    "outputId": "4e6f1c39-6a15-43c0-a752-86903c373795"
   },
   "outputs": [
    {
     "data": {
      "text/plain": [
       "[array([[595.72017739, 428.77159608,  17.2938745 ,   6.00658485],\n",
       "        [786.8085487 , 706.43911678,  32.96406659,   6.50831657],\n",
       "        [735.5174675 , 366.90072713,  58.31049587,   4.32571185],\n",
       "        [859.27893538, 453.13599929,  10.80427704,   7.23196894],\n",
       "        [732.51348532, 606.57153433,  14.98644702,   7.59315238],\n",
       "        [917.85790099, 699.85933993,  29.15956044,  15.741617  ],\n",
       "        [833.5554837 , 600.23625531,  11.73243811,   5.33057726]]),\n",
       " np.float64(8077250.287144778)]"
      ]
     },
     "execution_count": 16,
     "metadata": {},
     "output_type": "execute_result"
    }
   ],
   "source": [
    "# Vector terbaik untuk branch 1 dan branch 2\n",
    "best_b1_b2"
   ]
  },
  {
   "cell_type": "markdown",
   "metadata": {
    "id": "xC4EUP1ipeXf"
   },
   "source": [
    "#### Branch 1 + Branch 3"
   ]
  },
  {
   "cell_type": "code",
   "execution_count": 17,
   "metadata": {
    "id": "juweiJ4GpeXg"
   },
   "outputs": [],
   "source": [
    "# Mengambil vector pipe pada branch 1 yang akan digunakan untuk evaluasi\n",
    "demand1_index = 0\n",
    "for i in range(len(best_b1_b2[0])):\n",
    "    if round(best_b1_b2[0][i][1]) == 600:\n",
    "        demand1_index = i\n",
    "best_b1 = []\n",
    "for p in best_b1_b2[0]:\n",
    "    if(round(p[1]) != 600):\n",
    "        best_b1.append(p)\n",
    "    if len(best_b1) == N1-1:\n",
    "        break"
   ]
  },
  {
   "cell_type": "code",
   "execution_count": 18,
   "metadata": {
    "id": "1lk1-oJUpeXg"
   },
   "outputs": [],
   "source": [
    "# Fungsi untuk mengolah populasi awal pipa dari branch 1 dan branch 3 yang hanya memenuhi panjang total\n",
    "# Input : populasi awal pipe branch 1 + branch 3, ukuran populasi, N1, dan N3\n",
    "# Output : vector populasi awal yang memenuhi panjang dari branch 1 dan branch 3\n",
    "def get_pipe_length2(pipe_b3, best_b1, pop_size, N1, N3):\n",
    "    best_pipe = []\n",
    "    for i in range(pop_size): # 1, 2, ..., 50\n",
    "        temp = []\n",
    "        sum_pipe = 0\n",
    "        for j in range(N1+N3): # 1, 2, 3, 4, 5, 6, 7\n",
    "            if j < N1-1: # 0, 1, 2\n",
    "                sum_pipe += best_b1[j][2]\n",
    "            if j >= N1-1: # 3, 4, 5, 6 => 0, 1, 2, 3\n",
    "                sum_pipe += pipe_b3[j-N3][i][2]\n",
    "                temp.append(pipe_b3[j-N3][i])\n",
    "        if(round(sum_pipe) == 200):\n",
    "            best_pipe.append(temp)\n",
    "    return best_pipe"
   ]
  },
  {
   "cell_type": "code",
   "execution_count": 19,
   "metadata": {
    "id": "dm6U6bcapeXh"
   },
   "outputs": [],
   "source": [
    "# Proses inisialisasi populasi awal setiap pipe pada branch 3\n",
    "# <-----Branch 1-----> <--------Branch 3----------->\n",
    "# pipe1, pipe2, pipe3, pipe8, pipe9, pipe10, pipe11,\n",
    "def create_pipe_b3():\n",
    "  while True:\n",
    "    # Initialize population pipe branch 3\n",
    "    pipe_b3 = []\n",
    "    for i in range(N3+1):\n",
    "      pipe_b3.append(bounds3[:, 0] + (np.random.rand(pop_size, len(bounds3)) * (bounds3[:, 1] - bounds3[:, 0])))\n",
    "    best_pipe_b3 = get_pipe_length2(pipe_b3, best_b1, pop_size, N1, N3)\n",
    "    if(best_pipe_b3 != [] and len(best_pipe_b3) > 4):\n",
    "      break\n",
    "  return best_pipe_b3"
   ]
  },
  {
   "cell_type": "code",
   "execution_count": 20,
   "metadata": {
    "id": "Eb7rovnOpeXh"
   },
   "outputs": [],
   "source": [
    "def diff_evol_2(pop_pipe_b3, best_b1, iter, pop_size, bounds, F, CR):\n",
    "\n",
    "    # Check inequality branch 3\n",
    "    pop_pipe = [check_inequality(p) for p in pop_pipe_b3]\n",
    "    pop_pipe = np.array(pop_pipe)\n",
    "\n",
    "    # Evaluate initial population candidate solution\n",
    "    temp = [np.concatenate((best_b1, p)) for p in pop_pipe_b3]\n",
    "    obj_all = [f(p, N1+N3, N1+N3) for p in temp]\n",
    "\n",
    "    # Find the best vector of initial population\n",
    "    best_vector = pop_pipe[np.argmin(obj_all)]\n",
    "    best_obj = min(obj_all)\n",
    "    prev_obj = best_obj\n",
    "\n",
    "    for i in range(iter):\n",
    "        # Iterate over all candidate solution\n",
    "        for j in range(pop_size):\n",
    "            # MUTATION\n",
    "            while(True):\n",
    "                # Choose 3 candidate solution : a, b, c.\n",
    "                a = pop_pipe[j] # current\n",
    "                b = pop_pipe[np.argmin(obj_all)] # best\n",
    "                c = pop_pipe[j] # current\n",
    "                # Choose 5 candidate solution : a, b, c, d, e\n",
    "                candidates = [candidate for candidate in range(pop_size) if candidate != j]\n",
    "                d, e = pop_pipe[np.random.choice(candidates, 2, replace=False)]\n",
    "                # Perform mutation\n",
    "                mutated = mutation([a, b, c, d, e], F)\n",
    "                # Check bound mutated vector\n",
    "                mutated = check_bounds(mutated, bounds)\n",
    "                # Check inequality const\n",
    "                mutated = check_inequality(mutated)\n",
    "                # Check lenght, if true continue, else LOOP UNTIL\n",
    "                temp = np.concatenate((best_b1, mutated))\n",
    "                if check_length2(temp):\n",
    "                    break\n",
    "            # CROSSOVER\n",
    "            # Perform crossover\n",
    "            while(True):\n",
    "                mutated_temp = np.concatenate((best_b1, mutated))\n",
    "                target_temp = np.concatenate((best_b1, pop_pipe[j]))\n",
    "                trial = np.array(crossover(mutated_temp, target_temp, N1+N3, CR))\n",
    "                if check_length2(trial):\n",
    "                    break\n",
    "\n",
    "            # Compute objective function value for target vector]\n",
    "            obj_target = f(target_temp, N1+N3, N1+N3)\n",
    "            # Compute objective function value for trial vector\n",
    "            obj_trial = f(trial, N1+N3, N1+N3)\n",
    "\n",
    "            # SELECTION\n",
    "            # Perform selection\n",
    "            if obj_trial < obj_target:\n",
    "               # Replace target vector with trial vector\n",
    "               pop_pipe[j] = trial[3:]\n",
    "               # Store the new obj function value\n",
    "               obj_all[j] = obj_trial\n",
    "\n",
    "        # Find best performing vector each iteration\n",
    "        best_obj = min(obj_all)\n",
    "        # Store the lowest obj function value\n",
    "        if best_obj < prev_obj:\n",
    "            best_vector = pop_pipe[np.argmin(obj_all)]\n",
    "            prev_obj = best_obj\n",
    "\n",
    "    #     # Print progress iteration\n",
    "    #     # print('Iteration %d : f[%s] = %.5f' % (i, np.around(best_vector, decimals=5), best_obj))\n",
    "    #     # print('--------------------')\n",
    "    best_vector = np.concatenate((best_b1, best_vector))\n",
    "    return [best_vector, best_obj]"
   ]
  },
  {
   "cell_type": "code",
   "execution_count": 21,
   "metadata": {
    "id": "8FkjNXYXpeXh"
   },
   "outputs": [],
   "source": [
    "while(True):\n",
    "    best_pipe_b3 = create_pipe_b3()\n",
    "    best_b1_b3 = diff_evol_2(best_pipe_b3, best_b1, iter, len(best_pipe_b3), bounds3, F, CR)\n",
    "    status = False\n",
    "    if(round(best_b1_b3[0][N1+N3-1][1]) == 300):\n",
    "        status = True\n",
    "    if status and (best_b1_b3[0][:3] == best_b1).all() and check_inequality_2(best_b1_b3[0]):\n",
    "        break"
   ]
  },
  {
   "cell_type": "code",
   "execution_count": 22,
   "metadata": {
    "colab": {
     "base_uri": "https://localhost:8080/"
    },
    "id": "KZCGGp2owY9J",
    "outputId": "c5008b2a-2832-42bd-cf9c-2b83948fd5f7"
   },
   "outputs": [
    {
     "data": {
      "text/plain": [
       "[array([[595.72017739, 428.77159608,  17.2938745 ,   6.00658485],\n",
       "        [786.8085487 , 706.43911678,  32.96406659,   6.50831657],\n",
       "        [735.5174675 , 366.90072713,  58.31049587,   4.32571185],\n",
       "        [746.96487508, 521.51988056,   6.45540415,   7.99102708],\n",
       "        [715.64843365, 442.40860122,  15.43936647,  12.35979458],\n",
       "        [857.32794097, 604.45232054,  24.14699842,   4.05610056],\n",
       "        [796.25249107, 300.42022757,  44.93887503,   4.67600337]]),\n",
       " np.float64(7087874.146098909)]"
      ]
     },
     "execution_count": 22,
     "metadata": {},
     "output_type": "execute_result"
    }
   ],
   "source": [
    "best_b1_b3"
   ]
  },
  {
   "cell_type": "markdown",
   "metadata": {
    "id": "kg2n_r9xpeXh"
   },
   "source": [
    "### Results"
   ]
  },
  {
   "cell_type": "code",
   "execution_count": 23,
   "metadata": {
    "colab": {
     "base_uri": "https://localhost:8080/"
    },
    "id": "gYOPm1vzpeXi",
    "outputId": "32d0fc6c-aa46-4ec7-f8f9-034604135f25"
   },
   "outputs": [
    {
     "name": "stdout",
     "output_type": "stream",
     "text": [
      "Branch 1\n",
      "Pipe 1: [595.72017739 428.77159608  17.2938745    6.00658485]\n",
      "Pipe 2: [786.8085487  706.43911678  32.96406659   6.50831657]\n",
      "Pipe 3: [735.5174675  366.90072713  58.31049587   4.32571185]\n"
     ]
    }
   ],
   "source": [
    "# Best vector untuk pipe di branch 1\n",
    "print('Branch 1')\n",
    "for i in range(len(best_b1)):\n",
    "    print('Pipe {0}: {1}'.format(i+1, best_b1[i]))\n"
   ]
  },
  {
   "cell_type": "code",
   "execution_count": 24,
   "metadata": {
    "colab": {
     "base_uri": "https://localhost:8080/"
    },
    "id": "Zv7AKhOmpeXi",
    "outputId": "324ab454-8da5-422e-b9c5-fc69d3c9bc40"
   },
   "outputs": [
    {
     "name": "stdout",
     "output_type": "stream",
     "text": [
      "Branch 1 dan Branch 2\n",
      "Pipe 1: [595.72017739 428.77159608  17.2938745    6.00658485]\n",
      "Pipe 2: [786.8085487  706.43911678  32.96406659   6.50831657]\n",
      "Pipe 3: [735.5174675  366.90072713  58.31049587   4.32571185]\n",
      "Pipe 4: [859.27893538 453.13599929  10.80427704   7.23196894]\n",
      "Pipe 5: [732.51348532 606.57153433  14.98644702   7.59315238]\n",
      "Pipe 6: [917.85790099 699.85933993  29.15956044  15.741617  ]\n",
      "Pipe 7: [833.5554837  600.23625531  11.73243811   5.33057726]\n",
      "--------------------------------\n",
      "F(x) =  8077250.287144778\n",
      "Sum L =  175.2511595621332\n",
      "Ps == 600 terpenuhi pada pipe ke 7\n"
     ]
    }
   ],
   "source": [
    "# Best vector untuk pipe di branch 1 dan branch 2\n",
    "print('Branch 1 dan Branch 2')\n",
    "for i in range(len(best_b1_b2[0])):\n",
    "    print('Pipe {0}: {1}'.format(i+1, best_b1_b2[0][i]))\n",
    "    if round(best_b1_b2[0][i][1]) == 600:ps1 = i\n",
    "print('--------------------------------')\n",
    "print('F(x) = ',best_b1_b2[1])\n",
    "print('Sum L = ',sum(best_b1_b2[0][:,2]))\n",
    "\n",
    "print('Ps == 600 terpenuhi pada pipe ke',ps1+1)\n"
   ]
  },
  {
   "cell_type": "code",
   "execution_count": 25,
   "metadata": {
    "colab": {
     "base_uri": "https://localhost:8080/"
    },
    "id": "DKsRQUq-peXj",
    "outputId": "0e1123b6-e822-47e5-ca12-b2b04bf7016e"
   },
   "outputs": [
    {
     "name": "stdout",
     "output_type": "stream",
     "text": [
      "Branch 1 dan Branch 3\n",
      "Pipe 1: [595.72017739 428.77159608  17.2938745    6.00658485]\n",
      "Pipe 2: [786.8085487  706.43911678  32.96406659   6.50831657]\n",
      "Pipe 3: [735.5174675  366.90072713  58.31049587   4.32571185]\n",
      "Pipe 8: [746.96487508 521.51988056   6.45540415   7.99102708]\n",
      "Pipe 9: [715.64843365 442.40860122  15.43936647  12.35979458]\n",
      "Pipe 10: [857.32794097 604.45232054  24.14699842   4.05610056]\n",
      "Pipe 11: [796.25249107 300.42022757  44.93887503   4.67600337]\n",
      "--------------------------------\n",
      "F(x) =  7087874.146098909\n",
      "Sum L =  199.54908101799217\n",
      "Ps == 300 terpenuhi pada pipe ke 11\n"
     ]
    }
   ],
   "source": [
    "# Best vector untuk pipe di branch 1 dan branch 3\n",
    "print('Branch 1 dan Branch 3')\n",
    "for i in range(len(best_b1_b3[0])):\n",
    "    j = i+4 if i > 2 else i\n",
    "    if round(best_b1_b3[0][i][1]) == 300:ps2 = j\n",
    "    print('Pipe {0}: {1}'.format(j+1, best_b1_b3[0][i]))\n",
    "print('--------------------------------')\n",
    "print('F(x) = ',best_b1_b3[1])\n",
    "print('Sum L = ',sum(best_b1_b3[0][:,2]))\n",
    "\n",
    "print('Ps == 300 terpenuhi pada pipe ke',ps2+1)"
   ]
  },
  {
   "cell_type": "code",
   "execution_count": 26,
   "metadata": {
    "colab": {
     "base_uri": "https://localhost:8080/"
    },
    "id": "Sff0svR8peXj",
    "outputId": "b62ae1ba-3d45-46aa-bec2-3074df853841"
   },
   "outputs": [
    {
     "name": "stdout",
     "output_type": "stream",
     "text": [
      "Best vector setiap branch:\n",
      "\t|     Pd     |     Ps     |     L       |      D      |        Q         |\n",
      "Pipe 1: [595.72017739 428.77159608  17.2938745    6.00658485]  10.326613379624433\n",
      "Pipe 2: [786.8085487  706.43911678  32.96406659   6.50831657]  7.759949954731851\n",
      "Pipe 3: [735.5174675  366.90072713  58.31049587   4.32571185]  3.6120941715577106\n",
      "---------------------------------\n",
      "Pipe 4: [859.27893538 453.13599929  10.80427704   7.23196894]  37.839565291825956\n",
      "Pipe 5: [732.51348532 606.57153433  14.98644702   7.59315238]  20.580238611994055\n",
      "Pipe 6: [917.85790099 699.85933993  29.15956044  15.741617  ]  149.08617302431426\n",
      "Pipe 7: [833.5554837  600.23625531  11.73243811   5.33057726]  12.752841656774988\n",
      "---------------------------------\n",
      "Pipe 8: [746.96487508 521.51988056   6.45540415   7.99102708]  46.790709978565936\n",
      "Pipe 9: [715.64843365 442.40860122  15.43936647  12.35979458]  101.82874804532038\n",
      "Pipe 10: [857.32794097 604.45232054  24.14699842   4.05610056]  4.5092502784554025\n",
      "Pipe 11: [796.25249107 300.42022757  44.93887503   4.67600337]  5.857951999593537\n",
      "---------------------------------\n",
      "Ps = 600 terpenuhi pada pipe ke: 7\n",
      "Ps = 300 terpenuhi pada pipe ke: 11\n",
      "---------------------------------\n",
      "F(x) = 16436863.149080483\n"
     ]
    }
   ],
   "source": [
    "# Best vector untuk pipe di branch 1, branch 2, dan branch 3\n",
    "best_all = np.concatenate((best_b1_b2[0],best_b1_b3[0][3:]))\n",
    "print('Best vector setiap branch:')\n",
    "print('\\t|     Pd     |     Ps     |     L       |      D      |        Q         |')\n",
    "for i in range(11):\n",
    "    print('Pipe {0}: {1}'.format(i+1, best_all[i]),end=\"\")\n",
    "    if round(best_all[i][1]) == 600:ps1 = i\n",
    "    if round(best_all[i][1]) == 300:ps2 = i\n",
    "    print(' ',q(best_all[i][0],best_all[i][1],best_all[i][2],best_all[i][3])/1000000)\n",
    "    if i == 2 or i == 6 or i == 10:\n",
    "        print('---------------------------------')\n",
    "print('Ps = 600 terpenuhi pada pipe ke:',ps1+1)\n",
    "print('Ps = 300 terpenuhi pada pipe ke:',ps2+1)\n",
    "print('---------------------------------')\n",
    "print('F(x) = {0}'.format(f(best_all, n, m)))"
   ]
  },
  {
   "cell_type": "code",
   "execution_count": 27,
   "metadata": {
    "colab": {
     "base_uri": "https://localhost:8080/"
    },
    "id": "7FSSzTCCpeXk",
    "outputId": "336770d0-d118-4ac7-cccf-8cf36fb40dff"
   },
   "outputs": [
    {
     "name": "stdout",
     "output_type": "stream",
     "text": [
      "Compressor Ratio\n",
      "Compressor 1 : 1.1914403547758814\n",
      "Compressor 2 : 1.8350295493033855\n",
      "Compressor 3 : 1.0411618638280784\n",
      "Compressor 4 : 2.341993002042445\n",
      "Compressor 5 : 1.6165422444202353\n",
      "Compressor 6 : 1.5131898696768564\n",
      "Compressor 7 : 1.1910328778067063\n",
      "Compressor 8 : 1.2444514447081696\n",
      "Compressor 9 : 1.3722361511666583\n",
      "Compressor 10 : 1.937864541074533\n"
     ]
    }
   ],
   "source": [
    "# TODO 1. Hitung K\n",
    "Ps_init = 500.00\n",
    "K = []\n",
    "\n",
    "print('Compressor Ratio')\n",
    "for i in range(len(best_all)-1):\n",
    "\tif i == 0: K.append(best_all[i][0]/Ps_init)\n",
    "\telse:\n",
    "\t\tK.append(best_all[i][0]/best_all[i-1][1])\n",
    "\tprint('Compressor {0} : {1}'.format(i+1,K[i]))"
   ]
  }
 ],
 "metadata": {
  "colab": {
   "gpuType": "T4",
   "provenance": []
  },
  "kernelspec": {
   "display_name": "venv",
   "language": "python",
   "name": "python3"
  },
  "language_info": {
   "codemirror_mode": {
    "name": "ipython",
    "version": 3
   },
   "file_extension": ".py",
   "mimetype": "text/x-python",
   "name": "python",
   "nbconvert_exporter": "python",
   "pygments_lexer": "ipython3",
   "version": "3.12.3"
  },
  "orig_nbformat": 4
 },
 "nbformat": 4,
 "nbformat_minor": 0
}
