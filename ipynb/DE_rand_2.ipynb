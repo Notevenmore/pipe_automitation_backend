{
  "cells": [
    {
      "cell_type": "markdown",
      "metadata": {
        "id": "_lZZUDIiQ_VR"
      },
      "source": [
        "### Differential Evolution on Gas Transmission Pipe"
      ]
    },
    {
      "cell_type": "code",
      "execution_count": 811,
      "metadata": {
        "id": "vgsaO9zMSmOH"
      },
      "outputs": [],
      "source": [
        "# Import library yang dibutuhkan\n",
        "import numpy as np"
      ]
    },
    {
      "cell_type": "markdown",
      "metadata": {
        "id": "Uw_ttmkNSmOa"
      },
      "source": [
        "### Differential evolution method"
      ]
    },
    {
      "cell_type": "code",
      "execution_count": 812,
      "metadata": {
        "id": "LiaYtVpqSmOc"
      },
      "outputs": [],
      "source": [
        "# Fungsi untuk Mutation\n",
        "# Input : target pipe dan F\n",
        "# Output : mutated vector\n",
        "def mutation(x, F):\n",
        "    return np.add(x[0], np.multiply(F, np.add(np.subtract(x[1], x[2]), np.subtract(x[3], x[4]))))"
      ]
    },
    {
      "cell_type": "code",
      "execution_count": 813,
      "metadata": {
        "id": "9zXIj53bSmOe"
      },
      "outputs": [],
      "source": [
        "# Fungsi untuk Crossover\n",
        "# Input : mutated vector, target pipe, dimensi dari pipe = 7, dan CR\n",
        "# Output : trial vector\n",
        "def crossover(mutated, target, dims, cr):\n",
        "    # Generate uniform random value untuk setiap dimension\n",
        "    p = np.random.rand(dims)\n",
        "    # Generate Trial Vector dari binomial crossover\n",
        "    trial = [mutated[i] if p[i] < cr else target[i] for i in range(dims)]\n",
        "    return trial"
      ]
    },
    {
      "cell_type": "markdown",
      "metadata": {
        "id": "VuRVPIwASmOg"
      },
      "source": [
        "### Methods"
      ]
    },
    {
      "cell_type": "code",
      "execution_count": 814,
      "metadata": {
        "id": "SV2VoFu_SmOd"
      },
      "outputs": [],
      "source": [
        "# Fungsi untuk mengecek batasan dari pd, ps, L, D pada tiap pipe dari 1 set pipe\n",
        "# Input : mutated pipe dan batasan\n",
        "# Output : mutated pipe yang memenuhi batasan\n",
        "def check_bounds(mutated, bounds):\n",
        "    mutated_bound = []\n",
        "    for i in range(len(mutated)):\n",
        "        temp = []\n",
        "        for j in range(len(bounds)):\n",
        "            temp.append(np.clip(mutated[i][j], bounds[j, 0], bounds[j, -1]))\n",
        "        mutated_bound.append(temp)\n",
        "    return mutated_bound"
      ]
    },
    {
      "cell_type": "code",
      "execution_count": 815,
      "metadata": {
        "id": "lVwDYHOkSmOX"
      },
      "outputs": [],
      "source": [
        "# Fungsi untuk cek constraint pertidaksamaan\n",
        "# 1.) Pd/Ps >= 1\n",
        "# 2.) Pd/Ps <= Ki\n",
        "# 3.) Flow rate kuadrat = 0\n",
        "# Input : target pipe\n",
        "# Output : pipe yang memenuhi constraint\n",
        "def check_inequality(pop, K=[]):\n",
        "\t# Cek Pd >= Ps\n",
        "\tfor p in pop:\n",
        "\t\tif p[0] <= p[1]:\n",
        "\t\t\tp[0],p[1] = p[1],p[0]\n",
        "\t# Cek K\n",
        "\t# Cek Q\n",
        "\treturn pop\n",
        "def check_inequality_2(pop):\n",
        "\tps_init = 500\n",
        "\tfor i in range(len(pop)):\n",
        "\t\tif i == 0:\n",
        "\t\t\tif (pop[i][0]/ps_init) < 1:\n",
        "\t\t\t\treturn False\n",
        "\t\telse:\n",
        "\t\t\tif (pop[i][0]/pop[i-1][1]) < 1:\n",
        "\t\t\t\treturn False\n",
        "\treturn True"
      ]
    },
    {
      "cell_type": "code",
      "execution_count": 816,
      "metadata": {
        "id": "Rhx6kB2BQ_Vn"
      },
      "outputs": [],
      "source": [
        "# Fungsi untuk cek total panjang dari branch 1 dan branch 2\n",
        "def check_length1(pop):\n",
        "    return True if round(sum(pop[:,2])) == 175 else False\n",
        "# Fungsi untuk cek total panjang dari branch 1 dan branch 3\n",
        "def check_length2(pop):\n",
        "    return True if round(sum(pop[:,2])) == 200 else False"
      ]
    },
    {
      "cell_type": "markdown",
      "metadata": {
        "id": "na4D7LntQ_Vv"
      },
      "source": [
        "### Process"
      ]
    },
    {
      "cell_type": "markdown",
      "metadata": {
        "id": "DbWKkZ4HQ_Vw"
      },
      "source": [
        "Bentuk dari populasi awal untuk setiap pipe:</br>\n",
        "pipe1 = [[pd, ps, l, d]1, [pd, ps, l, d]2, [pd, ps, l, d]3, ..., [pd, ps, l, d]1000]</br>\n",
        "pipe2 = [[pd, ps, l, d]1, [pd, ps, l, d]2, [pd, ps, l, d]3, ..., [pd, ps, l, d]1000]</br>\n",
        "pipe3 = [[pd, ps, l, d]1, [pd, ps, l, d]2, [pd, ps, l, d]3, ..., [pd, ps, l, d]1000]</br>\n",
        "...</br>\n",
        "pipe11 = [[pd, ps, l, d]1, [pd, ps, l, d]2, [pd, ps, l, d]3, ..., [pd, ps, l, d]1000]</br>\n",
        "  \n",
        "Setelah diolah DE, output yang diharapkan yaitu vector paling optimal:</br>\n",
        "pipe1 = [pd, ps, l, d]</br>\n",
        "pipe2 = [pd, ps, l, d]</br>\n",
        "pipe3 = [pd, ps, l, d]</br>\n",
        "...</br>\n",
        "pipe11 = [pd, ps, l, d]</br>"
      ]
    },
    {
      "cell_type": "code",
      "execution_count": 817,
      "metadata": {
        "id": "_nOIXNVpSmOL"
      },
      "outputs": [],
      "source": [
        "# Definisi parameter untuk Differential Evolution\n",
        "# ------------------------------\n",
        "pop_size = 2000 # size population candidate solution\n",
        "iter = 50  # number iteration\n",
        "\n",
        "F = 0.02     # scale factor [0, 1]\n",
        "CR = 0.8    # crossover rate [0, 2]\n",
        "\n",
        "n = 10  # number compressor\n",
        "m = n+1 # number pipe\n",
        "N1 = 4  # number compressor in branch 1\n",
        "N2 = 3  # number compressor in branch 2\n",
        "N3 = 3  # number compressor in branch 3"
      ]
    },
    {
      "cell_type": "code",
      "execution_count": 818,
      "metadata": {
        "id": "eF3wQ9uESmOW"
      },
      "outputs": [],
      "source": [
        "# Definisi batas atas dan batas bawah untuk setiap dimensi pipe\n",
        "# pipe = [pd, ps, l, d]\n",
        "\n",
        "# Bounds for branch 1\n",
        "bounds1 = np.asarray([\n",
        "    (590, 1000),(300, 900),(2, 70),(4, 36)\n",
        "])\n",
        "# Bounds for branch 2\n",
        "bounds2 = np.asarray([\n",
        "    (590, 1000),(300, 900),(2, 30),(4, 18)\n",
        "])\n",
        "# Bounds for branch 3\n",
        "bounds3 = np.asarray([\n",
        "    (590, 1000),(200, 860),(2, 70),(4, 18)\n",
        "])"
      ]
    },
    {
      "cell_type": "code",
      "execution_count": 819,
      "metadata": {
        "id": "EB5U_kQCSmON"
      },
      "outputs": [],
      "source": [
        "# Fungsi Q untuk menghitung Flow Rate\n",
        "# Input : pd, ps, L, D\n",
        "# Output : Q\n",
        "def q(pd, ps, l, d):\n",
        "    return (871 * ((d)**(8/3))) * np.sqrt((pd**2 - ps**2) / l)"
      ]
    },
    {
      "cell_type": "code",
      "execution_count": 820,
      "metadata": {
        "id": "cYkA3y3oQ_V0"
      },
      "outputs": [],
      "source": [
        "# Objective Function F()\n",
        "# x = [pd, ps, l, d]\n",
        "\n",
        "# Fungsi objektif untuk operating cost compressor\n",
        "def f_comp(x, q, co = 8, cc = 70.00, T = 520, k = 1.26, z = 0.9):\n",
        "  return ((co + cc) * q * 0.08531 * T * (k/(k - 1)) * ((x[0]/x[1])**((z*(k - 1))/k) - 1))\n",
        "# Fungsi objektif untuk maintenance cost pipe\n",
        "def f_pipe(x, cs = 870):\n",
        "  return (cs * x[2] * x[3])\n",
        "\n",
        "# Fungsi objektif\n",
        "# Input: 1 set pipe (pipe1, pipe2, ..., pipei), jumlah compressor, jumlah pipe\n",
        "# Output: sum fungsi objektif\n",
        "def f(pop, n, m):\n",
        "    sum = 0\n",
        "    for i in range(n):\n",
        "      qi = q(pop[i][0],pop[i][1],pop[i][2],pop[i][3])/1000000\n",
        "      sum += f_comp(pop[i], qi)\n",
        "      for j in range(m):\n",
        "          sum += f_pipe(pop[j])\n",
        "    return sum"
      ]
    },
    {
      "cell_type": "markdown",
      "metadata": {
        "id": "aJZy9sXcQ_V0"
      },
      "source": [
        "#### Branch 1 + Branch 2"
      ]
    },
    {
      "cell_type": "code",
      "execution_count": 821,
      "metadata": {
        "id": "4nPHAvTDQ_V1"
      },
      "outputs": [],
      "source": [
        "# Fungsi untuk mengolah populasi awal pipa dari branch 1 dan branch 2 yang hanya memenuhi panjang total\n",
        "# Input : populasi awal pipe branch 1 + branch 2, ukuran populasi, N1, dan N2\n",
        "# Output : vector populasi awal yang memenuhi panjang dari branch 1 dan branch 2\n",
        "def get_pipe_length1(pipe_b1_b2, pop_size, N1, N2):\n",
        "    best_pipe = []\n",
        "    for i in range(pop_size): # 1, 2, ..., 1000\n",
        "        temp = []\n",
        "        sum_pipe = 0\n",
        "        for j in range(N1+N2): # 1, 2, 3, 4, 5, 6, 7\n",
        "            sum_pipe += pipe_b1_b2[j][i][2]\n",
        "            temp.append(pipe_b1_b2[j][i])\n",
        "        if(round(sum_pipe) == 175):\n",
        "            best_pipe.append(temp)\n",
        "    return best_pipe"
      ]
    },
    {
      "cell_type": "code",
      "execution_count": 822,
      "metadata": {
        "id": "4Xkvieo4lHX4"
      },
      "outputs": [],
      "source": [
        "# Proses inisialisasi populasi awal setiap pipe pada branch 1 dan branch 2\n",
        "# <-----Branch 1-----> <--------Branch 2--------->\n",
        "# pipe1, pipe2, pipe3, pipe4, pipe5, pipe6, pipe7,\n",
        "\n",
        "while True:\n",
        "  # Initialize population pipe branch 1\n",
        "  pipe_b1 = []\n",
        "  for i in range(N1-1):\n",
        "    pipe_b1.append(bounds1[:, 0] + (np.random.rand(pop_size, len(bounds1)) * (bounds1[:, 1] - bounds1[:, 0])))\n",
        "  # Initialize population pipe branch 2\n",
        "  pipe_b2 = []\n",
        "  for i in range(N2+1):\n",
        "    pipe_b2.append(bounds2[:, 0] + (np.random.rand(pop_size, len(bounds2)) * (bounds2[:, 1] - bounds2[:, 0])))\n",
        "  # Concatenate population pipe branch 1 and branch 2\n",
        "  pipe_b1_b2 = np.concatenate((pipe_b1, pipe_b2))\n",
        "  # Get all pipes whichs meet constraint length branch 1 and branch 2\n",
        "  best_pipe_b1_b2 = get_pipe_length1(pipe_b1_b2, pop_size, N1, N2)\n",
        "  if(best_pipe_b1_b2 != []):\n",
        "    break"
      ]
    },
    {
      "cell_type": "code",
      "execution_count": 823,
      "metadata": {
        "colab": {
          "base_uri": "https://localhost:8080/"
        },
        "id": "t-RCK1NuQ_V2",
        "outputId": "6d8bf7e2-2e7f-46aa-cc0c-81c510380d68"
      },
      "outputs": [
        {
          "data": {
            "text/plain": [
              "20"
            ]
          },
          "execution_count": 823,
          "metadata": {},
          "output_type": "execute_result"
        }
      ],
      "source": [
        "# Cek berapa populasi awal vector yang memenuhi panjang total\n",
        "len(best_pipe_b1_b2)"
      ]
    },
    {
      "cell_type": "code",
      "execution_count": 824,
      "metadata": {
        "id": "eoiwXrWAQ_V3"
      },
      "outputs": [],
      "source": [
        "# Fungsi differential evolution untuk pipe branch 1 dan branch 2\n",
        "def diff_evol1(pop_pipe, iter, pop_size, bounds, F, CR):\n",
        "\n",
        "    # Check inequality\n",
        "    pop_pipe = [check_inequality(p) for p in pop_pipe]\n",
        "    pop_pipe = np.array(pop_pipe)\n",
        "\n",
        "    # Evaluate initial population candidate solution\n",
        "    obj_all = [f(p, N1+N2, N1+N2) for p in pop_pipe]\n",
        "\n",
        "    # Find the best vector of initial population\n",
        "    best_vector = pop_pipe[np.argmin(obj_all)]\n",
        "    best_obj = min(obj_all)\n",
        "    prev_obj = best_obj\n",
        "\n",
        "    for i in range(iter):\n",
        "        # Iterate over all candidate solution\n",
        "        for j in range(pop_size):\n",
        "            # MUTATION\n",
        "            while(True):\n",
        "                # Choose 5 candidate solution : a, b, c, d, e\n",
        "                candidates = [candidate for candidate in range(pop_size) if candidate != j]\n",
        "                a, b, c, d, e = pop_pipe[np.random.choice(candidates, 5, replace=False)]\n",
        "                # Perform mutation\n",
        "                mutated = mutation([a, b, c, d, e], F)\n",
        "                # Check bound mutated vector\n",
        "                mutated_b1 = check_bounds(mutated[:3], bounds[0])\n",
        "                mutated_b2 = check_bounds(mutated[3:], bounds[1])\n",
        "                mutated = np.concatenate((mutated_b1, mutated_b2))\n",
        "                # Check inequality const\n",
        "                mutated = check_inequality(mutated)\n",
        "                    # Check lenght, if true continue, else LOOP UNTIL\n",
        "                if check_length1(mutated):\n",
        "                    break\n",
        "\n",
        "            # CROSSOVER\n",
        "            # Perform crossover\n",
        "            while(True):\n",
        "                trial = np.array(crossover(mutated, pop_pipe[j], N1+N2, CR))\n",
        "                if check_length1(trial):\n",
        "                    break\n",
        "\n",
        "            # Compute objective function value for target vector\n",
        "            obj_target = f(pop_pipe[j], N1+N2, N1+N2)\n",
        "            # Compute objective function value for trial vector\n",
        "            obj_trial = f(trial, N1+N2, N1+N2)\n",
        "\n",
        "            # SELECTION\n",
        "            # Perform selection\n",
        "            if obj_trial < obj_target:\n",
        "               # Replace target vector with trial vector\n",
        "               pop_pipe[j] = trial\n",
        "               # Store the new obj function value\n",
        "               obj_all[j] = obj_trial\n",
        "\n",
        "        # Find best performing vector each iteration\n",
        "        best_obj = min(obj_all)\n",
        "        # Store the lowest obj function value\n",
        "        if best_obj < prev_obj:\n",
        "            best_vector = pop_pipe[np.argmin(obj_all)]\n",
        "            prev_obj = best_obj\n",
        "\n",
        "        # Print progress iteration\n",
        "        # print('Iteration %d : f[%s] = %.5f' % (i, np.around(best_vector, decimals=5), best_obj))\n",
        "        # print('--------------------')\n",
        "\n",
        "    return [best_vector, best_obj]"
      ]
    },
    {
      "cell_type": "code",
      "execution_count": 825,
      "metadata": {
        "id": "K_WZg6D8Q_V3"
      },
      "outputs": [
        {
          "name": "stdout",
          "output_type": "stream",
          "text": [
            "[array([[881.93563049, 473.17076281,  32.10318772,   9.12011636],\n",
            "       [822.44407094, 569.04893857,  24.90018739,   4.24329885],\n",
            "       [741.2674184 , 500.41830388,  36.08167346,   4.07823042],\n",
            "       [814.1811601 , 369.42063753,  22.05937879,   8.96858951],\n",
            "       [916.03421081, 496.22642102,   3.89733723,   4.33307514],\n",
            "       [732.24170937, 727.51010759,  26.7041037 ,   5.8107686 ],\n",
            "       [735.9058173 , 608.85470991,  28.75431222,  10.9387174 ]]), 7768271.571348968]\n",
            "[array([[890.77635167, 475.96119971,  32.74401822,   9.18027301],\n",
            "       [827.48564189, 562.13683957,  22.11601641,   4.00000748],\n",
            "       [739.37146084, 489.91656661,  36.0591305 ,   4.125058  ],\n",
            "       [815.93059972, 329.5181448 ,  23.80307076,   8.49379107],\n",
            "       [919.21482079, 478.25276179,   2.70870753,   4.00432565],\n",
            "       [712.60082695, 712.14941023,  27.57704731,   5.58918009],\n",
            "       [724.76995989, 598.8720434 ,  29.62252873,  10.76756754]]), 7733490.474336948]\n",
            "[array([[893.91308061, 453.75718109,  31.54717483,   8.23486655],\n",
            "       [825.78021035, 559.51845246,  21.59002163,   4.85145273],\n",
            "       [740.72059574, 504.48491306,  38.74990735,   4.37356114],\n",
            "       [812.68154644, 319.04537731,  22.35219215,   9.01630238],\n",
            "       [945.4736128 , 534.8722799 ,   4.04250019,   4.59466477],\n",
            "       [729.11771939, 725.66077887,  26.66938955,   5.68173411],\n",
            "       [735.44795936, 597.39347279,  29.99998882,  11.2561825 ]]), 7880393.167580325]\n",
            "[array([[895.89543618, 465.59374667,  32.5941549 ,   9.13283496],\n",
            "       [823.07656944, 565.81699657,  24.19246755,   4.07097171],\n",
            "       [740.50272379, 498.89827458,  36.17569   ,   4.34892524],\n",
            "       [812.88722523, 373.87518484,  21.75932624,   9.09073482],\n",
            "       [915.99806941, 501.98341136,   4.16363125,   4.16078127],\n",
            "       [725.01073858, 720.24397872,  26.29613751,   6.0181305 ],\n",
            "       [733.82179053, 604.58354491,  29.3193806 ,  11.01230289]]), 7893659.359979586]\n",
            "[array([[890.42844862, 476.80331349,  32.50398987,   9.16750519],\n",
            "       [819.53232637, 564.58709724,  23.08095661,   4.52166999],\n",
            "       [742.82815104, 496.0896345 ,  34.79284132,   4.00015731],\n",
            "       [811.27194642, 346.98057171,  22.99892088,   8.76148677],\n",
            "       [924.18350485, 507.22389883,   4.30950188,   4.42995152],\n",
            "       [735.78630799, 734.25060183,  27.20862968,   5.43545755],\n",
            "       [739.42924998, 600.08144647,  29.79467176,  11.10049947]]), 7841324.456843214]\n"
          ]
        }
      ],
      "source": [
        "# Proses Differential Evolution hingga memenuhi setiap constraint\n",
        "# Hingga memenuhi Ps demand 1 = 600 psi\n",
        "while(True):\n",
        "    best_b1_b2 = diff_evol1(best_pipe_b1_b2, iter, len(best_pipe_b1_b2), [bounds1, bounds2], F, CR)\n",
        "    print(best_b1_b2)\n",
        "    status = False\n",
        "    if(round(best_b1_b2[0][N1+N2-1][1]) == 600 and check_inequality_2(best_b1_b2[0])):\n",
        "        break"
      ]
    },
    {
      "cell_type": "code",
      "execution_count": 832,
      "metadata": {
        "colab": {
          "base_uri": "https://localhost:8080/"
        },
        "id": "XoTZyzrYQ_V4",
        "outputId": "e9a700a4-75cc-4d52-e354-bae231b7841f"
      },
      "outputs": [
        {
          "data": {
            "text/plain": [
              "[array([[890.42844862, 476.80331349,  32.50398987,   9.16750519],\n",
              "        [819.53232637, 564.58709724,  23.08095661,   4.52166999],\n",
              "        [742.82815104, 496.0896345 ,  34.79284132,   4.00015731],\n",
              "        [811.27194642, 346.98057171,  22.99892088,   8.76148677],\n",
              "        [924.18350485, 507.22389883,   4.30950188,   4.42995152],\n",
              "        [735.78630799, 734.25060183,  27.20862968,   5.43545755],\n",
              "        [739.42924998, 600.08144647,  29.79467176,  11.10049947]]),\n",
              " 7841324.456843214]"
            ]
          },
          "execution_count": 832,
          "metadata": {},
          "output_type": "execute_result"
        }
      ],
      "source": [
        "# Vector terbaik untuk branch 1 dan branch 2\n",
        "best_b1_b2"
      ]
    },
    {
      "cell_type": "markdown",
      "metadata": {
        "id": "AWmX4trVQ_V4"
      },
      "source": [
        "#### Branch 1 + Branch 3"
      ]
    },
    {
      "cell_type": "code",
      "execution_count": 833,
      "metadata": {
        "id": "gPaHmsKHQ_V5"
      },
      "outputs": [],
      "source": [
        "# Mengambil vector pipe pada branch 1 yang akan digunakan untuk evaluasi\n",
        "demand1_index = 0\n",
        "for i in range(len(best_b1_b2[0])):\n",
        "    if round(best_b1_b2[0][i][1]) == 600:\n",
        "        demand1_index = i\n",
        "best_b1 = []\n",
        "for p in best_b1_b2[0]:\n",
        "    if(round(p[1]) != 600):\n",
        "        best_b1.append(p)\n",
        "    if len(best_b1) == N1-1:\n",
        "        break"
      ]
    },
    {
      "cell_type": "code",
      "execution_count": 834,
      "metadata": {
        "id": "beOUCM13Q_V5"
      },
      "outputs": [],
      "source": [
        "# Fungsi untuk mengolah populasi awal pipa dari branch 1 dan branch 3 yang hanya memenuhi panjang total\n",
        "# Input : populasi awal pipe branch 1 + branch 3, ukuran populasi, N1, dan N3\n",
        "# Output : vector populasi awal yang memenuhi panjang dari branch 1 dan branch 3\n",
        "def get_pipe_length2(pipe_b3, best_b1, pop_size, N1, N3):\n",
        "    best_pipe = []\n",
        "    for i in range(pop_size): # 1, 2, ..., 50\n",
        "        temp = []\n",
        "        sum_pipe = 0\n",
        "        for j in range(N1+N3): # 1, 2, 3, 4, 5, 6, 7\n",
        "            if j < N1-1: # 0, 1, 2\n",
        "                sum_pipe += best_b1[j][2]\n",
        "            if j >= N1-1: # 3, 4, 5, 6 => 0, 1, 2, 3\n",
        "                sum_pipe += pipe_b3[j-N3][i][2]\n",
        "                temp.append(pipe_b3[j-N3][i])\n",
        "        if(round(sum_pipe) == 200):\n",
        "            best_pipe.append(temp)\n",
        "    return best_pipe"
      ]
    },
    {
      "cell_type": "code",
      "execution_count": 835,
      "metadata": {
        "id": "7EDtVvMPQ_V6"
      },
      "outputs": [],
      "source": [
        "# Proses inisialisasi populasi awal setiap pipe pada branch 3\n",
        "# <-----Branch 1-----> <--------Branch 3----------->\n",
        "# pipe1, pipe2, pipe3, pipe8, pipe9, pipe10, pipe11,\n",
        "def create_pipe_b3():\n",
        "  while True:\n",
        "    # Initialize population pipe branch 3\n",
        "    pipe_b3 = []\n",
        "    for i in range(N3+1):\n",
        "      pipe_b3.append(bounds3[:, 0] + (np.random.rand(pop_size, len(bounds3)) * (bounds3[:, 1] - bounds3[:, 0])))\n",
        "    best_pipe_b3 = get_pipe_length2(pipe_b3, best_b1, pop_size, N1, N3)\n",
        "    if(best_pipe_b3 != [] and len(best_pipe_b3) > 5):\n",
        "      break\n",
        "  return best_pipe_b3"
      ]
    },
    {
      "cell_type": "code",
      "execution_count": 836,
      "metadata": {
        "id": "7r0plwnvQ_V6"
      },
      "outputs": [],
      "source": [
        "def diff_evol_2(pop_pipe_b3, best_b1, iter, pop_size, bounds, F, CR):\n",
        "\n",
        "    # Check inequality branch 3\n",
        "    pop_pipe = [check_inequality(p) for p in pop_pipe_b3]\n",
        "    pop_pipe = np.array(pop_pipe)\n",
        "\n",
        "    # Evaluate initial population candidate solution\n",
        "    temp = [np.concatenate((best_b1, p)) for p in pop_pipe_b3]\n",
        "    obj_all = [f(p, N1+N3, N1+N3) for p in temp]\n",
        "\n",
        "    # Find the best vector of initial population\n",
        "    best_vector = pop_pipe[np.argmin(obj_all)]\n",
        "    best_obj = min(obj_all)\n",
        "    prev_obj = best_obj\n",
        "\n",
        "    for i in range(iter):\n",
        "        # Iterate over all candidate solution\n",
        "        for j in range(pop_size):\n",
        "            # MUTATION\n",
        "            while(True):\n",
        "                # Choose 5 candidate solution : a, b, c, d, e\n",
        "                candidates = [candidate for candidate in range(pop_size) if candidate != j]\n",
        "                a, b, c, d, e = pop_pipe[np.random.choice(candidates, 5, replace=False)]\n",
        "                # Perform mutation\n",
        "                mutated = mutation([a, b, c, d, e], F)\n",
        "                # Check bound mutated vector\n",
        "                mutated = check_bounds(mutated, bounds)\n",
        "                # Check inequality const\n",
        "                mutated = check_inequality(mutated)\n",
        "                # Check lenght, if true continue, else LOOP UNTIL\n",
        "                temp = np.concatenate((best_b1, mutated))\n",
        "                if check_length2(temp):\n",
        "                    break\n",
        "            # CROSSOVER\n",
        "            # Perform crossover\n",
        "            while(True):\n",
        "                mutated_temp = np.concatenate((best_b1, mutated))\n",
        "                target_temp = np.concatenate((best_b1, pop_pipe[j]))\n",
        "                trial = np.array(crossover(mutated_temp, target_temp, N1+N3, CR))\n",
        "                if check_length2(trial):\n",
        "                    break\n",
        "\n",
        "            # Compute objective function value for target vector]\n",
        "            obj_target = f(target_temp, N1+N3, N1+N3)\n",
        "            # Compute objective function value for trial vector\n",
        "            obj_trial = f(trial, N1+N3, N1+N3)\n",
        "\n",
        "            # SELECTION\n",
        "            # Perform selection\n",
        "            if obj_trial < obj_target:\n",
        "               # Replace target vector with trial vector\n",
        "               pop_pipe[j] = trial[3:]\n",
        "               # Store the new obj function value\n",
        "               obj_all[j] = obj_trial\n",
        "\n",
        "        # Find best performing vector each iteration\n",
        "        best_obj = min(obj_all)\n",
        "        # Store the lowest obj function value\n",
        "        if best_obj < prev_obj:\n",
        "            best_vector = pop_pipe[np.argmin(obj_all)]\n",
        "            prev_obj = best_obj\n",
        "\n",
        "    #     # Print progress iteration\n",
        "    #     # print('Iteration %d : f[%s] = %.5f' % (i, np.around(best_vector, decimals=5), best_obj))\n",
        "    #     # print('--------------------')\n",
        "    best_vector = np.concatenate((best_b1, best_vector))\n",
        "    return [best_vector, best_obj]"
      ]
    },
    {
      "cell_type": "code",
      "execution_count": 837,
      "metadata": {
        "id": "b8pp6pQpQ_V7"
      },
      "outputs": [],
      "source": [
        "while(True):\n",
        "    best_pipe_b3 = create_pipe_b3()\n",
        "    best_b1_b3 = diff_evol_2(best_pipe_b3, best_b1, iter, len(best_pipe_b3), bounds3, F, CR)\n",
        "    status = False\n",
        "    if(round(best_b1_b3[0][N1+N3-1][1]) == 300):\n",
        "        status = True\n",
        "    if status and (best_b1_b3[0][:3] == best_b1).all() and check_inequality_2(best_b1_b3[0][:3]):\n",
        "        break"
      ]
    },
    {
      "cell_type": "markdown",
      "metadata": {
        "id": "jGZFok1sQ_V7"
      },
      "source": [
        "### Results"
      ]
    },
    {
      "cell_type": "code",
      "execution_count": 838,
      "metadata": {
        "colab": {
          "base_uri": "https://localhost:8080/"
        },
        "id": "ZjRmnBofQ_V7",
        "outputId": "135e520f-35bf-4e03-af36-0036e7fdb516"
      },
      "outputs": [
        {
          "name": "stdout",
          "output_type": "stream",
          "text": [
            "Branch 1\n",
            "Pipe 1: [890.42844862 476.80331349  32.50398987   9.16750519]\n",
            "Pipe 2: [819.53232637 564.58709724  23.08095661   4.52166999]\n",
            "Pipe 3: [742.82815104 496.0896345   34.79284132   4.00015731]\n"
          ]
        }
      ],
      "source": [
        "# Best vector untuk pipe di branch 1\n",
        "print('Branch 1')\n",
        "for i in range(len(best_b1)):\n",
        "    print('Pipe {0}: {1}'.format(i+1, best_b1[i]))\n"
      ]
    },
    {
      "cell_type": "code",
      "execution_count": 839,
      "metadata": {
        "colab": {
          "base_uri": "https://localhost:8080/"
        },
        "id": "fFTiQ2h1Q_V8",
        "outputId": "93c61aef-7740-4feb-aecc-2f457766c0bf"
      },
      "outputs": [
        {
          "name": "stdout",
          "output_type": "stream",
          "text": [
            "Branch 1 dan Branch 2\n",
            "Pipe 1: [890.42844862 476.80331349  32.50398987   9.16750519]\n",
            "Pipe 2: [819.53232637 564.58709724  23.08095661   4.52166999]\n",
            "Pipe 3: [742.82815104 496.0896345   34.79284132   4.00015731]\n",
            "Pipe 4: [811.27194642 346.98057171  22.99892088   8.76148677]\n",
            "Pipe 5: [924.18350485 507.22389883   4.30950188   4.42995152]\n",
            "Pipe 6: [735.78630799 734.25060183  27.20862968   5.43545755]\n",
            "Pipe 7: [739.42924998 600.08144647  29.79467176  11.10049947]\n",
            "--------------------------------\n",
            "F(x) =  7841324.456843214\n",
            "Sum L =  174.68951199477584\n",
            "Ps == 600 terpenuhi pada pipe ke 7\n"
          ]
        }
      ],
      "source": [
        "# Best vector untuk pipe di branch 1 dan branch 2\n",
        "print('Branch 1 dan Branch 2')\n",
        "for i in range(len(best_b1_b2[0])):\n",
        "    print('Pipe {0}: {1}'.format(i+1, best_b1_b2[0][i]))\n",
        "    if round(best_b1_b2[0][i][1]) == 600:ps1 = i\n",
        "print('--------------------------------')\n",
        "print('F(x) = ',best_b1_b2[1])\n",
        "print('Sum L = ',sum(best_b1_b2[0][:,2]))\n",
        "\n",
        "print('Ps == 600 terpenuhi pada pipe ke',ps1+1)\n"
      ]
    },
    {
      "cell_type": "code",
      "execution_count": 840,
      "metadata": {
        "colab": {
          "base_uri": "https://localhost:8080/"
        },
        "id": "tWUo53N9Q_V8",
        "outputId": "b9fe4bcd-97b7-463c-e553-b8142707ad75"
      },
      "outputs": [
        {
          "name": "stdout",
          "output_type": "stream",
          "text": [
            "Branch 1 dan Branch 3\n",
            "Pipe 1: [890.42844862 476.80331349  32.50398987   9.16750519]\n",
            "Pipe 2: [819.53232637 564.58709724  23.08095661   4.52166999]\n",
            "Pipe 3: [742.82815104 496.0896345   34.79284132   4.00015731]\n",
            "Pipe 8: [846.02028031 346.74805131   3.47508645   4.85442195]\n",
            "Pipe 9: [902.81339763 591.51553327   5.566802     4.55271533]\n",
            "Pipe 10: [792.77176809 281.95414797  55.17627203   8.24065146]\n",
            "Pipe 11: [940.29587741 300.38406551  44.90405352   4.11932209]\n",
            "--------------------------------\n",
            "F(x) =  7747903.497612681\n",
            "Sum L =  199.50000180437414\n",
            "Ps == 300 terpenuhi pada pipe ke 11\n"
          ]
        }
      ],
      "source": [
        "# Best vector untuk pipe di branch 1 dan branch 3\n",
        "print('Branch 1 dan Branch 3')\n",
        "for i in range(len(best_b1_b3[0])):\n",
        "    j = i+4 if i > 2 else i\n",
        "    if round(best_b1_b3[0][i][1]) == 300:ps2 = j\n",
        "    print('Pipe {0}: {1}'.format(j+1, best_b1_b3[0][i]))\n",
        "print('--------------------------------')\n",
        "print('F(x) = ',best_b1_b3[1])\n",
        "print('Sum L = ',sum(best_b1_b3[0][:,2]))\n",
        "\n",
        "print('Ps == 300 terpenuhi pada pipe ke',ps2+1)"
      ]
    },
    {
      "cell_type": "code",
      "execution_count": 841,
      "metadata": {
        "colab": {
          "base_uri": "https://localhost:8080/"
        },
        "id": "zjU2iTsIQ_V9",
        "outputId": "f988f2a4-04a0-4d7d-e977-f4523a6b3f26"
      },
      "outputs": [
        {
          "name": "stdout",
          "output_type": "stream",
          "text": [
            "Best vector setiap branch:\n",
            "\t|     Pd     |     Ps     |     L       |      D      |        Q         |\n",
            "Pipe 1: [890.42844862 476.80331349  32.50398987   9.16750519]  42.293872761669235\n",
            "Pipe 2: [819.53232637 564.58709724  23.08095661   4.52166999]  6.020951259174396\n",
            "Pipe 3: [742.82815104 496.0896345   34.79284132   4.00015731]  3.291939015164376\n",
            "---------------------------------\n",
            "Pipe 4: [811.27194642 346.98057171  22.99892088   8.76148677]  43.451240997040365\n",
            "Pipe 5: [924.18350485 507.22389883   4.30950188   4.42995152]  17.15788822017697\n",
            "Pipe 6: [735.78630799 734.25060183  27.20862968   5.43545755]  0.7246238509294968\n",
            "Pipe 7: [739.42924998 600.08144647  29.79467176  11.10049947]  42.271928753259516\n",
            "---------------------------------\n",
            "Pipe 8: [846.02028031 346.74805131   3.47508645   4.85442195]  24.36027370157006\n",
            "Pipe 9: [902.81339763 591.51553327   5.566802     4.55271533]  14.3355523298708\n",
            "Pipe 10: [792.77176809 281.95414797  55.17627203   8.24065146]  24.070654324564497\n",
            "Pipe 11: [940.29587741 300.38406551  44.90405352   4.11932209]  5.050107952998267\n",
            "---------------------------------\n",
            "Ps = 600 terpenuhi pada pipe ke: 7\n",
            "Ps = 300 terpenuhi pada pipe ke: 11\n",
            "---------------------------------\n",
            "F(x) = 17190651.453745645\n"
          ]
        }
      ],
      "source": [
        "# Best vector untuk pipe di branch 1, branch 2, dan branch 3\n",
        "best_all = np.concatenate((best_b1_b2[0],best_b1_b3[0][3:]))\n",
        "print('Best vector setiap branch:')\n",
        "print('\\t|     Pd     |     Ps     |     L       |      D      |        Q         |')\n",
        "for i in range(11):\n",
        "    print('Pipe {0}: {1}'.format(i+1, best_all[i]),end=\"\")\n",
        "    if round(best_all[i][1]) == 600:ps1 = i\n",
        "    if round(best_all[i][1]) == 300:ps2 = i\n",
        "    print(' ',q(best_all[i][0],best_all[i][1],best_all[i][2],best_all[i][3])/1000000)\n",
        "    if i == 2 or i == 6 or i == 10:\n",
        "        print('---------------------------------')\n",
        "print('Ps = 600 terpenuhi pada pipe ke:',ps1+1)\n",
        "print('Ps = 300 terpenuhi pada pipe ke:',ps2+1)\n",
        "print('---------------------------------')\n",
        "print('F(x) = {0}'.format(f(best_all, n, m)))"
      ]
    },
    {
      "cell_type": "code",
      "execution_count": 842,
      "metadata": {
        "colab": {
          "base_uri": "https://localhost:8080/"
        },
        "id": "EpOrf3oVQ_V-",
        "outputId": "c578fbca-d581-40ac-d13a-2b9b0b1801d9"
      },
      "outputs": [
        {
          "name": "stdout",
          "output_type": "stream",
          "text": [
            "Compressor Ratio\n",
            "Compressor 1 : 1.7808568972456114\n",
            "Compressor 2 : 1.7188058538644526\n",
            "Compressor 3 : 1.315701606841678\n",
            "Compressor 4 : 1.635333395412162\n",
            "Compressor 5 : 2.6635021675760213\n",
            "Compressor 6 : 1.4506144321881569\n",
            "Compressor 7 : 1.0070529709270346\n",
            "Compressor 8 : 1.4098424226904465\n",
            "Compressor 9 : 2.6036581725960857\n",
            "Compressor 10 : 1.3402382921472615\n"
          ]
        }
      ],
      "source": [
        "# TODO 1. Hitung K\n",
        "Ps_init = 500.00\n",
        "K = []\n",
        "\n",
        "print('Compressor Ratio')\n",
        "for i in range(len(best_all)-1):\n",
        "\tif i == 0: K.append(best_all[i][0]/Ps_init)\n",
        "\telse:\n",
        "\t\tK.append(best_all[i][0]/best_all[i-1][1])\n",
        "\tprint('Compressor {0} : {1}'.format(i+1,K[i]))"
      ]
    }
  ],
  "metadata": {
    "colab": {
      "gpuType": "T4",
      "provenance": []
    },
    "kernelspec": {
      "display_name": "Python 3",
      "name": "python3"
    },
    "language_info": {
      "codemirror_mode": {
        "name": "ipython",
        "version": 3
      },
      "file_extension": ".py",
      "mimetype": "text/x-python",
      "name": "python",
      "nbconvert_exporter": "python",
      "pygments_lexer": "ipython3",
      "version": "3.10.4"
    },
    "orig_nbformat": 4
  },
  "nbformat": 4,
  "nbformat_minor": 0
}
